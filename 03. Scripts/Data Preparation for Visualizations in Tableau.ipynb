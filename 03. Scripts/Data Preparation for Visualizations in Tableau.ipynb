{
 "cells": [
  {
   "cell_type": "code",
   "execution_count": 1,
   "id": "2d7097ec",
   "metadata": {},
   "outputs": [],
   "source": [
    "# Import libraries\n",
    "\n",
    "import pandas as pd\n",
    "import numpy as np\n",
    "import os\n",
    "import matplotlib"
   ]
  },
  {
   "cell_type": "code",
   "execution_count": 2,
   "id": "bf628fae",
   "metadata": {},
   "outputs": [],
   "source": [
    "# Assign path\n",
    "\n",
    "path = r'C:\\Users\\fiyin\\OneDrive\\Documents\\Achievement 6\\NYC Motor Vehicle Collisons Analysis'"
   ]
  },
  {
   "cell_type": "code",
   "execution_count": 3,
   "id": "6cb647c9",
   "metadata": {},
   "outputs": [],
   "source": [
    "# Import data\n",
    "\n",
    "collisions = pd.read_pickle(os.path.join(path, '02. Data', 'Prepared data', 'collisions_explored2b.pkl'))"
   ]
  },
  {
   "cell_type": "code",
   "execution_count": 5,
   "id": "c4da9003",
   "metadata": {},
   "outputs": [
    {
     "data": {
      "text/plain": [
       "(1001137, 31)"
      ]
     },
     "execution_count": 5,
     "metadata": {},
     "output_type": "execute_result"
    }
   ],
   "source": [
    "collisions.shape"
   ]
  },
  {
   "cell_type": "code",
   "execution_count": 20,
   "id": "0b6096ec",
   "metadata": {},
   "outputs": [
    {
     "data": {
      "text/html": [
       "<div>\n",
       "<style scoped>\n",
       "    .dataframe tbody tr th:only-of-type {\n",
       "        vertical-align: middle;\n",
       "    }\n",
       "\n",
       "    .dataframe tbody tr th {\n",
       "        vertical-align: top;\n",
       "    }\n",
       "\n",
       "    .dataframe thead th {\n",
       "        text-align: right;\n",
       "    }\n",
       "</style>\n",
       "<table border=\"1\" class=\"dataframe\">\n",
       "  <thead>\n",
       "    <tr style=\"text-align: right;\">\n",
       "      <th></th>\n",
       "      <th>CRASH DATE</th>\n",
       "      <th>CRASH TIME</th>\n",
       "      <th>BOROUGH</th>\n",
       "      <th>ZIP CODE</th>\n",
       "      <th>LATITUDE</th>\n",
       "      <th>LONGITUDE</th>\n",
       "      <th>ON STREET NAME</th>\n",
       "      <th>PERSONS INJURED</th>\n",
       "      <th>PERSONS KILLED</th>\n",
       "      <th>PEDESTRIANS INJURED</th>\n",
       "      <th>...</th>\n",
       "      <th>CYCLISTS KILLED</th>\n",
       "      <th>MOTORISTS INJURED</th>\n",
       "      <th>MOTORISTS KILLED</th>\n",
       "      <th>CAUSE VEHICLE 1</th>\n",
       "      <th>CAUSE VEHICLE 2</th>\n",
       "      <th>VEHICLE 1 TYPE</th>\n",
       "      <th>VEHICLE 2 TYPE</th>\n",
       "      <th>CRASH HOUR</th>\n",
       "      <th>CRASH YEAR</th>\n",
       "      <th>CRASH Y-M</th>\n",
       "    </tr>\n",
       "  </thead>\n",
       "  <tbody>\n",
       "    <tr>\n",
       "      <th>961481</th>\n",
       "      <td>2017-01-01</td>\n",
       "      <td>20:10:00</td>\n",
       "      <td>BRONX</td>\n",
       "      <td>10467.0</td>\n",
       "      <td>40.867820</td>\n",
       "      <td>-73.86345</td>\n",
       "      <td>BARNES AVENUE</td>\n",
       "      <td>2</td>\n",
       "      <td>0</td>\n",
       "      <td>0</td>\n",
       "      <td>...</td>\n",
       "      <td>0</td>\n",
       "      <td>2</td>\n",
       "      <td>0</td>\n",
       "      <td>Other Vehicular</td>\n",
       "      <td>Unspecified</td>\n",
       "      <td>Sedan</td>\n",
       "      <td>Sedan</td>\n",
       "      <td>20</td>\n",
       "      <td>2017</td>\n",
       "      <td>2017-01</td>\n",
       "    </tr>\n",
       "    <tr>\n",
       "      <th>961564</th>\n",
       "      <td>2017-01-01</td>\n",
       "      <td>15:00:00</td>\n",
       "      <td>BROOKLYN</td>\n",
       "      <td>11205.0</td>\n",
       "      <td>40.694042</td>\n",
       "      <td>-73.96511</td>\n",
       "      <td>NaN</td>\n",
       "      <td>0</td>\n",
       "      <td>0</td>\n",
       "      <td>0</td>\n",
       "      <td>...</td>\n",
       "      <td>0</td>\n",
       "      <td>0</td>\n",
       "      <td>0</td>\n",
       "      <td>Unspecified</td>\n",
       "      <td>NaN</td>\n",
       "      <td>Sedan</td>\n",
       "      <td>NaN</td>\n",
       "      <td>15</td>\n",
       "      <td>2017</td>\n",
       "      <td>2017-01</td>\n",
       "    </tr>\n",
       "    <tr>\n",
       "      <th>967179</th>\n",
       "      <td>2017-01-01</td>\n",
       "      <td>04:30:00</td>\n",
       "      <td>NaN</td>\n",
       "      <td>NaN</td>\n",
       "      <td>40.601585</td>\n",
       "      <td>-74.08936</td>\n",
       "      <td>GATEWAY DRIVE</td>\n",
       "      <td>0</td>\n",
       "      <td>0</td>\n",
       "      <td>0</td>\n",
       "      <td>...</td>\n",
       "      <td>0</td>\n",
       "      <td>0</td>\n",
       "      <td>0</td>\n",
       "      <td>Alcohol Involvement</td>\n",
       "      <td>Unspecified</td>\n",
       "      <td>Sedan</td>\n",
       "      <td>Sedan</td>\n",
       "      <td>4</td>\n",
       "      <td>2017</td>\n",
       "      <td>2017-01</td>\n",
       "    </tr>\n",
       "    <tr>\n",
       "      <th>967143</th>\n",
       "      <td>2017-01-01</td>\n",
       "      <td>00:00:00</td>\n",
       "      <td>NaN</td>\n",
       "      <td>NaN</td>\n",
       "      <td>40.772327</td>\n",
       "      <td>-73.94531</td>\n",
       "      <td>FDR DRIVE</td>\n",
       "      <td>0</td>\n",
       "      <td>0</td>\n",
       "      <td>0</td>\n",
       "      <td>...</td>\n",
       "      <td>0</td>\n",
       "      <td>0</td>\n",
       "      <td>0</td>\n",
       "      <td>Outside Car Distraction</td>\n",
       "      <td>Unspecified</td>\n",
       "      <td>Sedan</td>\n",
       "      <td>Sedan</td>\n",
       "      <td>0</td>\n",
       "      <td>2017</td>\n",
       "      <td>2017-01</td>\n",
       "    </tr>\n",
       "    <tr>\n",
       "      <th>967082</th>\n",
       "      <td>2017-01-01</td>\n",
       "      <td>17:00:00</td>\n",
       "      <td>MANHATTAN</td>\n",
       "      <td>10028.0</td>\n",
       "      <td>40.774292</td>\n",
       "      <td>-73.95127</td>\n",
       "      <td>EAST 82 STREET</td>\n",
       "      <td>0</td>\n",
       "      <td>0</td>\n",
       "      <td>0</td>\n",
       "      <td>...</td>\n",
       "      <td>0</td>\n",
       "      <td>0</td>\n",
       "      <td>0</td>\n",
       "      <td>Driver Inattention/Distraction</td>\n",
       "      <td>Unspecified</td>\n",
       "      <td>Station Wagon/Sport Utility Vehicle</td>\n",
       "      <td>NaN</td>\n",
       "      <td>17</td>\n",
       "      <td>2017</td>\n",
       "      <td>2017-01</td>\n",
       "    </tr>\n",
       "  </tbody>\n",
       "</table>\n",
       "<p>5 rows × 22 columns</p>\n",
       "</div>"
      ],
      "text/plain": [
       "        CRASH DATE CRASH TIME    BOROUGH ZIP CODE   LATITUDE  LONGITUDE  \\\n",
       "961481  2017-01-01   20:10:00      BRONX  10467.0  40.867820  -73.86345   \n",
       "961564  2017-01-01   15:00:00   BROOKLYN  11205.0  40.694042  -73.96511   \n",
       "967179  2017-01-01   04:30:00        NaN      NaN  40.601585  -74.08936   \n",
       "967143  2017-01-01   00:00:00        NaN      NaN  40.772327  -73.94531   \n",
       "967082  2017-01-01   17:00:00  MANHATTAN  10028.0  40.774292  -73.95127   \n",
       "\n",
       "                          ON STREET NAME  PERSONS INJURED  PERSONS KILLED  \\\n",
       "961481  BARNES AVENUE                                   2               0   \n",
       "961564                               NaN                0               0   \n",
       "967179  GATEWAY DRIVE                                   0               0   \n",
       "967143  FDR DRIVE                                       0               0   \n",
       "967082  EAST 82 STREET                                  0               0   \n",
       "\n",
       "        PEDESTRIANS INJURED  ...  CYCLISTS KILLED  MOTORISTS INJURED  \\\n",
       "961481                    0  ...                0                  2   \n",
       "961564                    0  ...                0                  0   \n",
       "967179                    0  ...                0                  0   \n",
       "967143                    0  ...                0                  0   \n",
       "967082                    0  ...                0                  0   \n",
       "\n",
       "        MOTORISTS KILLED                 CAUSE VEHICLE 1  CAUSE VEHICLE 2  \\\n",
       "961481                 0                 Other Vehicular      Unspecified   \n",
       "961564                 0                     Unspecified              NaN   \n",
       "967179                 0             Alcohol Involvement      Unspecified   \n",
       "967143                 0         Outside Car Distraction      Unspecified   \n",
       "967082                 0  Driver Inattention/Distraction      Unspecified   \n",
       "\n",
       "                             VEHICLE 1 TYPE VEHICLE 2 TYPE CRASH HOUR  \\\n",
       "961481                                Sedan          Sedan         20   \n",
       "961564                                Sedan            NaN         15   \n",
       "967179                                Sedan          Sedan          4   \n",
       "967143                                Sedan          Sedan          0   \n",
       "967082  Station Wagon/Sport Utility Vehicle            NaN         17   \n",
       "\n",
       "       CRASH YEAR  CRASH Y-M  \n",
       "961481       2017    2017-01  \n",
       "961564       2017    2017-01  \n",
       "967179       2017    2017-01  \n",
       "967143       2017    2017-01  \n",
       "967082       2017    2017-01  \n",
       "\n",
       "[5 rows x 22 columns]"
      ]
     },
     "execution_count": 20,
     "metadata": {},
     "output_type": "execute_result"
    }
   ],
   "source": [
    "collisions.head()"
   ]
  },
  {
   "cell_type": "code",
   "execution_count": 8,
   "id": "48f25788",
   "metadata": {},
   "outputs": [],
   "source": [
    "##collisions['LOCATION'] = collisions.LOCATION.str.strip('()')"
   ]
  },
  {
   "cell_type": "code",
   "execution_count": 4,
   "id": "7e85d1d1",
   "metadata": {},
   "outputs": [
    {
     "data": {
      "text/plain": [
       "Index(['CRASH DATE', 'CRASH TIME', 'BOROUGH', 'ZIP CODE', 'LATITUDE',\n",
       "       'LONGITUDE', 'LOCATION', 'ON STREET NAME', 'CROSS STREET NAME',\n",
       "       'OFF STREET NAME', 'PERSONS INJURED', 'PERSONS KILLED',\n",
       "       'PEDESTRIANS INJURED', 'PEDESTRIANS KILLED', 'CYCLISTS INJURED',\n",
       "       'CYCLISTS KILLED', 'MOTORISTS INJURED', 'MOTORISTS KILLED',\n",
       "       'CAUSE VEHICLE 1', 'CAUSE VEHICLE 2', 'CAUSE VEHICLE 3', 'COLLISION_ID',\n",
       "       'VEHICLE 1 TYPE', 'VEHICLE 2 TYPE', 'VEHICLE 3 TYPE', 'CRASH HOUR',\n",
       "       'CRASH YEAR', 'INJURED TOTAL', 'KILLED TOTAL', 'INJURED BOROUGH TOTAL',\n",
       "       'KILLED BOROUGH TOTAL'],\n",
       "      dtype='object')"
      ]
     },
     "execution_count": 4,
     "metadata": {},
     "output_type": "execute_result"
    }
   ],
   "source": [
    "collisions.columns"
   ]
  },
  {
   "cell_type": "code",
   "execution_count": 4,
   "id": "5dbe57e8",
   "metadata": {},
   "outputs": [],
   "source": [
    "# Drop inessential columns\n",
    "\n",
    "collisions = collisions.drop(columns = ['CROSS STREET NAME', 'OFF STREET NAME', 'COLLISION_ID', 'INJURED TOTAL',\n",
    "                                        'KILLED TOTAL', 'INJURED BOROUGH TOTAL', 'KILLED BOROUGH TOTAL',\n",
    "                                        'CAUSE VEHICLE 3', 'VEHICLE 3 TYPE', 'LOCATION'])"
   ]
  },
  {
   "cell_type": "code",
   "execution_count": 7,
   "id": "b9d1c759",
   "metadata": {},
   "outputs": [
    {
     "data": {
      "text/plain": [
       "(1001137, 21)"
      ]
     },
     "execution_count": 7,
     "metadata": {},
     "output_type": "execute_result"
    }
   ],
   "source": [
    "collisions.shape"
   ]
  },
  {
   "cell_type": "code",
   "execution_count": 5,
   "id": "78f36606",
   "metadata": {},
   "outputs": [
    {
     "data": {
      "text/plain": [
       "673"
      ]
     },
     "execution_count": 5,
     "metadata": {},
     "output_type": "execute_result"
    }
   ],
   "source": [
    "collisions['MOTORISTS KILLED'].sum()"
   ]
  },
  {
   "cell_type": "code",
   "execution_count": 6,
   "id": "62caa15c",
   "metadata": {},
   "outputs": [
    {
     "data": {
      "text/plain": [
       "742"
      ]
     },
     "execution_count": 6,
     "metadata": {},
     "output_type": "execute_result"
    }
   ],
   "source": [
    "collisions['PEDESTRIANS KILLED'].sum()"
   ]
  },
  {
   "cell_type": "code",
   "execution_count": 7,
   "id": "2ccbaef7",
   "metadata": {},
   "outputs": [
    {
     "data": {
      "text/plain": [
       "133"
      ]
     },
     "execution_count": 7,
     "metadata": {},
     "output_type": "execute_result"
    }
   ],
   "source": [
    "collisions['CYCLISTS KILLED'].sum()"
   ]
  },
  {
   "cell_type": "code",
   "execution_count": 8,
   "id": "2ed5251d",
   "metadata": {},
   "outputs": [],
   "source": [
    "# Sort the date values in asscending order\n",
    "\n",
    "collisions = collisions.sort_values(by = 'CRASH DATE')"
   ]
  },
  {
   "cell_type": "code",
   "execution_count": 9,
   "id": "3b6000c1",
   "metadata": {},
   "outputs": [],
   "source": [
    "# Change data type of CRASH DATE to string \n",
    "\n",
    "collisions['CRASH DATE'] = collisions['CRASH DATE'].astype('str')"
   ]
  },
  {
   "cell_type": "code",
   "execution_count": 10,
   "id": "af0f57b5",
   "metadata": {},
   "outputs": [],
   "source": [
    "# New column to extract only the year and month values from the CRASH DATE variable\n",
    "\n",
    "collisions['CRASH Y-M'] = collisions['CRASH DATE'].str[:-3]"
   ]
  },
  {
   "cell_type": "code",
   "execution_count": 11,
   "id": "948f50dc",
   "metadata": {},
   "outputs": [],
   "source": [
    "# New column to extract only the month values from the CRASH Y-M variable\n",
    "\n",
    "collisions['CRASH MONTH'] = collisions['CRASH Y-M'].str[5:]"
   ]
  },
  {
   "cell_type": "code",
   "execution_count": 11,
   "id": "51bc6993",
   "metadata": {},
   "outputs": [
    {
     "data": {
      "text/plain": [
       "01    82600\n",
       "02    75949\n",
       "03    84555\n",
       "04    74278\n",
       "05    87353\n",
       "06    89406\n",
       "07    85866\n",
       "08    84615\n",
       "09    84753\n",
       "10    87632\n",
       "11    82599\n",
       "12    81531\n",
       "Name: CRASH MONTH, dtype: int64"
      ]
     },
     "execution_count": 11,
     "metadata": {},
     "output_type": "execute_result"
    }
   ],
   "source": [
    "collisions['CRASH MONTH'].value_counts(dropna = False).sort_index()"
   ]
  },
  {
   "cell_type": "code",
   "execution_count": 12,
   "id": "62d91c86",
   "metadata": {},
   "outputs": [],
   "source": [
    "collisions.loc[collisions['CRASH MONTH'] == '01', 'CRASH MONTH'] = 'January'\n",
    "collisions.loc[collisions['CRASH MONTH'] == '02', 'CRASH MONTH'] = 'February'\n",
    "collisions.loc[collisions['CRASH MONTH'] == '03', 'CRASH MONTH'] = 'March'\n",
    "collisions.loc[collisions['CRASH MONTH'] == '04', 'CRASH MONTH'] = 'April'\n",
    "collisions.loc[collisions['CRASH MONTH'] == '05', 'CRASH MONTH'] = 'May'\n",
    "collisions.loc[collisions['CRASH MONTH'] == '06', 'CRASH MONTH'] = 'June'\n",
    "collisions.loc[collisions['CRASH MONTH'] == '07', 'CRASH MONTH'] = 'July'\n",
    "collisions.loc[collisions['CRASH MONTH'] == '08', 'CRASH MONTH'] = 'August'\n",
    "collisions.loc[collisions['CRASH MONTH'] == '09', 'CRASH MONTH'] = 'September'\n",
    "collisions.loc[collisions['CRASH MONTH'] == '10', 'CRASH MONTH'] = 'October'\n",
    "collisions.loc[collisions['CRASH MONTH'] == '11', 'CRASH MONTH'] = 'November'\n",
    "collisions.loc[collisions['CRASH MONTH'] == '12', 'CRASH MONTH'] = 'December'"
   ]
  },
  {
   "cell_type": "markdown",
   "id": "9e8a06ad",
   "metadata": {},
   "source": [
    "# Find average incidents per month by covid before and after"
   ]
  },
  {
   "cell_type": "code",
   "execution_count": 15,
   "id": "fd94dfa9",
   "metadata": {
    "scrolled": true
   },
   "outputs": [
    {
     "data": {
      "text/plain": [
       "(1001137, 23)"
      ]
     },
     "execution_count": 15,
     "metadata": {},
     "output_type": "execute_result"
    }
   ],
   "source": [
    "collisions.shape"
   ]
  },
  {
   "cell_type": "code",
   "execution_count": 11,
   "id": "28fb85cd",
   "metadata": {},
   "outputs": [
    {
     "data": {
      "text/plain": [
       "2017    231007\n",
       "2018    231564\n",
       "2019    211486\n",
       "2020    112915\n",
       "2021    110546\n",
       "2022    103619\n",
       "Name: CRASH YEAR, dtype: int64"
      ]
     },
     "execution_count": 11,
     "metadata": {},
     "output_type": "execute_result"
    }
   ],
   "source": [
    "collisions['CRASH YEAR'].value_counts().sort_index()"
   ]
  },
  {
   "cell_type": "code",
   "execution_count": 13,
   "id": "da441510",
   "metadata": {},
   "outputs": [],
   "source": [
    "collisions['CRASH YEAR'] = collisions['CRASH YEAR'].astype('int64')"
   ]
  },
  {
   "cell_type": "code",
   "execution_count": 14,
   "id": "d23c2058",
   "metadata": {},
   "outputs": [],
   "source": [
    "collisions.loc[collisions['CRASH YEAR'] < 2020, 'COVID FLAG'] = 'Before Covid'\n",
    "collisions.loc[collisions['CRASH YEAR'] >= 2020, 'COVID FLAG'] = 'Covid and after'"
   ]
  },
  {
   "cell_type": "code",
   "execution_count": 15,
   "id": "92e78dc9",
   "metadata": {},
   "outputs": [
    {
     "data": {
      "text/plain": [
       "Before Covid       67.329147\n",
       "Covid and after    32.670853\n",
       "Name: COVID FLAG, dtype: float64"
      ]
     },
     "execution_count": 15,
     "metadata": {},
     "output_type": "execute_result"
    }
   ],
   "source": [
    "collisions['COVID FLAG'].value_counts(normalize = True) * 100"
   ]
  },
  {
   "cell_type": "code",
   "execution_count": 22,
   "id": "924c4794",
   "metadata": {},
   "outputs": [],
   "source": [
    "Before = collisions.loc[collisions['COVID FLAG'] == 'Before Covid']"
   ]
  },
  {
   "cell_type": "code",
   "execution_count": 23,
   "id": "262cd976",
   "metadata": {},
   "outputs": [
    {
     "data": {
      "text/plain": [
       "(674057, 26)"
      ]
     },
     "execution_count": 23,
     "metadata": {},
     "output_type": "execute_result"
    }
   ],
   "source": [
    "Before.shape"
   ]
  },
  {
   "cell_type": "code",
   "execution_count": 26,
   "id": "3eb197dc",
   "metadata": {},
   "outputs": [
    {
     "data": {
      "text/plain": [
       "0.0    79.907931\n",
       "1.0    20.092069\n",
       "Name: injuries flag, dtype: float64"
      ]
     },
     "execution_count": 26,
     "metadata": {},
     "output_type": "execute_result"
    }
   ],
   "source": [
    "Before['injuries flag'].value_counts(normalize = True) * 100"
   ]
  },
  {
   "cell_type": "code",
   "execution_count": 27,
   "id": "db96339a",
   "metadata": {},
   "outputs": [
    {
     "data": {
      "text/plain": [
       "0.0    99.894371\n",
       "1.0     0.105629\n",
       "Name: deaths flag, dtype: float64"
      ]
     },
     "execution_count": 27,
     "metadata": {},
     "output_type": "execute_result"
    }
   ],
   "source": [
    "Before['deaths flag'].value_counts(normalize = True) * 100"
   ]
  },
  {
   "cell_type": "code",
   "execution_count": 24,
   "id": "f1a4da12",
   "metadata": {},
   "outputs": [],
   "source": [
    "After = collisions.loc[collisions['COVID FLAG'] == 'Covid and after']"
   ]
  },
  {
   "cell_type": "code",
   "execution_count": 25,
   "id": "bac0571a",
   "metadata": {
    "scrolled": false
   },
   "outputs": [
    {
     "data": {
      "text/plain": [
       "(327080, 26)"
      ]
     },
     "execution_count": 25,
     "metadata": {},
     "output_type": "execute_result"
    }
   ],
   "source": [
    "After.shape"
   ]
  },
  {
   "cell_type": "code",
   "execution_count": 28,
   "id": "b98b5c47",
   "metadata": {},
   "outputs": [
    {
     "data": {
      "text/plain": [
       "0.0    66.111349\n",
       "1.0    33.888651\n",
       "Name: injuries flag, dtype: float64"
      ]
     },
     "execution_count": 28,
     "metadata": {},
     "output_type": "execute_result"
    }
   ],
   "source": [
    "After['injuries flag'].value_counts(normalize = True) * 100"
   ]
  },
  {
   "cell_type": "code",
   "execution_count": 29,
   "id": "5fa22ba7",
   "metadata": {},
   "outputs": [
    {
     "data": {
      "text/plain": [
       "0.0    99.75266\n",
       "1.0     0.24734\n",
       "Name: deaths flag, dtype: float64"
      ]
     },
     "execution_count": 29,
     "metadata": {},
     "output_type": "execute_result"
    }
   ],
   "source": [
    "After['deaths flag'].value_counts(normalize = True) * 100"
   ]
  },
  {
   "cell_type": "code",
   "execution_count": 17,
   "id": "0a87ce16",
   "metadata": {
    "scrolled": true
   },
   "outputs": [
    {
     "data": {
      "text/plain": [
       "(1001137, 24)"
      ]
     },
     "execution_count": 17,
     "metadata": {},
     "output_type": "execute_result"
    }
   ],
   "source": [
    "collisions.shape"
   ]
  },
  {
   "cell_type": "code",
   "execution_count": 16,
   "id": "012136c6",
   "metadata": {},
   "outputs": [],
   "source": [
    "collisions.loc[collisions['PERSONS INJURED'] > 0, 'injuries flag'] = 1\n",
    "collisions.loc[collisions['PERSONS INJURED'] == 0, 'injuries flag'] = 0\n",
    "\n",
    "collisions.loc[collisions['PERSONS KILLED'] > 0, 'deaths flag'] = 1\n",
    "collisions.loc[collisions['PERSONS KILLED'] == 0, 'deaths flag'] = 0"
   ]
  },
  {
   "cell_type": "code",
   "execution_count": 17,
   "id": "33d41342",
   "metadata": {},
   "outputs": [
    {
     "data": {
      "text/plain": [
       "0.0    75.40047\n",
       "1.0    24.59953\n",
       "Name: injuries flag, dtype: float64"
      ]
     },
     "execution_count": 17,
     "metadata": {},
     "output_type": "execute_result"
    }
   ],
   "source": [
    "collisions['injuries flag'].value_counts(normalize = True) * 100"
   ]
  },
  {
   "cell_type": "code",
   "execution_count": 17,
   "id": "10585e18",
   "metadata": {},
   "outputs": [
    {
     "data": {
      "text/plain": [
       "0.0    99.848073\n",
       "1.0     0.151927\n",
       "Name: deaths flag, dtype: float64"
      ]
     },
     "execution_count": 17,
     "metadata": {},
     "output_type": "execute_result"
    }
   ],
   "source": [
    "# Put in first notebook\n",
    "\n",
    "collisions['deaths flag'].value_counts(normalize = True) * 100"
   ]
  },
  {
   "cell_type": "code",
   "execution_count": 26,
   "id": "08232351",
   "metadata": {
    "scrolled": true
   },
   "outputs": [
    {
     "data": {
      "text/plain": [
       "(1001137, 26)"
      ]
     },
     "execution_count": 26,
     "metadata": {},
     "output_type": "execute_result"
    }
   ],
   "source": [
    "collisions.shape"
   ]
  },
  {
   "cell_type": "code",
   "execution_count": 18,
   "id": "9987fd65",
   "metadata": {},
   "outputs": [],
   "source": [
    "collisions.loc[collisions['CAUSE VEHICLE 1'] != 'Alcohol Involvement', 'DUI flag'] = 0\n",
    "collisions.loc[collisions['CAUSE VEHICLE 1'] == 'Alcohol Involvement', 'DUI flag'] = 1"
   ]
  },
  {
   "cell_type": "code",
   "execution_count": 21,
   "id": "c1c29e6b",
   "metadata": {},
   "outputs": [
    {
     "data": {
      "text/plain": [
       "0.0    989076\n",
       "1.0     12061\n",
       "Name: DUI flag, dtype: int64"
      ]
     },
     "execution_count": 21,
     "metadata": {},
     "output_type": "execute_result"
    }
   ],
   "source": [
    "collisions['DUI flag'].value_counts(dropna = False)"
   ]
  },
  {
   "cell_type": "code",
   "execution_count": 25,
   "id": "282c9406",
   "metadata": {},
   "outputs": [],
   "source": [
    "Alcohol = collisions.loc[collisions['DUI flag'] == 1]"
   ]
  },
  {
   "cell_type": "code",
   "execution_count": 26,
   "id": "24a2e62e",
   "metadata": {},
   "outputs": [
    {
     "data": {
      "text/plain": [
       "(12061, 28)"
      ]
     },
     "execution_count": 26,
     "metadata": {},
     "output_type": "execute_result"
    }
   ],
   "source": [
    "Alcohol.shape"
   ]
  },
  {
   "cell_type": "code",
   "execution_count": 27,
   "id": "66c2a12a",
   "metadata": {},
   "outputs": [
    {
     "data": {
      "text/plain": [
       "0.0    67.896526\n",
       "1.0    32.103474\n",
       "Name: injuries flag, dtype: float64"
      ]
     },
     "execution_count": 27,
     "metadata": {},
     "output_type": "execute_result"
    }
   ],
   "source": [
    "Alcohol['injuries flag'].value_counts(normalize = True) * 100"
   ]
  },
  {
   "cell_type": "code",
   "execution_count": 32,
   "id": "2fbae7c4",
   "metadata": {},
   "outputs": [
    {
     "data": {
      "text/plain": [
       "6026"
      ]
     },
     "execution_count": 32,
     "metadata": {},
     "output_type": "execute_result"
    }
   ],
   "source": [
    "Alcohol['PERSONS INJURED'].sum()"
   ]
  },
  {
   "cell_type": "code",
   "execution_count": 34,
   "id": "bb7a388b",
   "metadata": {},
   "outputs": [
    {
     "data": {
      "text/plain": [
       "5473"
      ]
     },
     "execution_count": 34,
     "metadata": {},
     "output_type": "execute_result"
    }
   ],
   "source": [
    "Alcohol['MOTORISTS INJURED'].sum()"
   ]
  },
  {
   "cell_type": "code",
   "execution_count": 38,
   "id": "6cb85eae",
   "metadata": {},
   "outputs": [
    {
     "name": "stderr",
     "output_type": "stream",
     "text": [
      "C:\\Users\\fiyin\\AppData\\Local\\Temp\\ipykernel_8320\\1305447274.py:4: SettingWithCopyWarning: \n",
      "A value is trying to be set on a copy of a slice from a DataFrame.\n",
      "Try using .loc[row_indexer,col_indexer] = value instead\n",
      "\n",
      "See the caveats in the documentation: https://pandas.pydata.org/pandas-docs/stable/user_guide/indexing.html#returning-a-view-versus-a-copy\n",
      "  Alcohol.loc[Alcohol['PERSONS KILLED'] > 0, 'dea'] = 1\n"
     ]
    }
   ],
   "source": [
    "Alcohol.loc[Alcohol['PERSONS INJURED'] > 0, 'inj'] = 1\n",
    "Alcohol.loc[Alcohol['PERSONS INJURED'] == 0, 'inj'] = 0\n",
    "\n",
    "Alcohol.loc[Alcohol['PERSONS KILLED'] > 0, 'dea'] = 1\n",
    "Alcohol.loc[Alcohol['PERSONS KILLED'] == 0, 'dea'] = 0"
   ]
  },
  {
   "cell_type": "code",
   "execution_count": 37,
   "id": "8298828d",
   "metadata": {},
   "outputs": [
    {
     "data": {
      "text/plain": [
       "0.0    67.896526\n",
       "1.0    32.103474\n",
       "Name: inj, dtype: float64"
      ]
     },
     "execution_count": 37,
     "metadata": {},
     "output_type": "execute_result"
    }
   ],
   "source": [
    "Alcohol['inj'].value_counts(normalize = True) * 100"
   ]
  },
  {
   "cell_type": "code",
   "execution_count": 39,
   "id": "5bfbc4ef",
   "metadata": {},
   "outputs": [
    {
     "data": {
      "text/plain": [
       "0.0    99.535694\n",
       "1.0     0.464306\n",
       "Name: dea, dtype: float64"
      ]
     },
     "execution_count": 39,
     "metadata": {},
     "output_type": "execute_result"
    }
   ],
   "source": [
    "Alcohol['dea'].value_counts(normalize = True) * 100"
   ]
  },
  {
   "cell_type": "code",
   "execution_count": 33,
   "id": "5326f788",
   "metadata": {},
   "outputs": [
    {
     "data": {
      "text/plain": [
       "56"
      ]
     },
     "execution_count": 33,
     "metadata": {},
     "output_type": "execute_result"
    }
   ],
   "source": [
    "Alcohol['PERSONS KILLED'].sum()"
   ]
  },
  {
   "cell_type": "code",
   "execution_count": 28,
   "id": "980de6d0",
   "metadata": {},
   "outputs": [
    {
     "data": {
      "text/plain": [
       "0.0    99.535694\n",
       "1.0     0.464306\n",
       "Name: deaths flag, dtype: float64"
      ]
     },
     "execution_count": 28,
     "metadata": {},
     "output_type": "execute_result"
    }
   ],
   "source": [
    "Alcohol['deaths flag'].value_counts(normalize = True) * 100"
   ]
  },
  {
   "cell_type": "code",
   "execution_count": 19,
   "id": "67ded5de",
   "metadata": {},
   "outputs": [],
   "source": [
    "collisions['DUI'] = collisions.groupby(['CRASH HOUR'])['DUI flag'].transform(np.sum)"
   ]
  },
  {
   "cell_type": "code",
   "execution_count": 44,
   "id": "225ab3a9",
   "metadata": {},
   "outputs": [],
   "source": [
    "# Casualties\n",
    "\n",
    "collisions.loc[collisions['PERSONS INJURED'] <= 2, 'injury flag'] = 'Low'\n",
    "collisions.loc[(collisions['PERSONS INJURED'] > 2) & (collisions['PERSONS INJURED'] <= 5), 'injury flag'] = 'Medium' \n",
    "collisions.loc[collisions['PERSONS INJURED'] > 5, 'injury flag'] = 'High'"
   ]
  },
  {
   "cell_type": "code",
   "execution_count": 45,
   "id": "ac4cca6b",
   "metadata": {},
   "outputs": [
    {
     "data": {
      "text/plain": [
       "Low       982477\n",
       "Medium     17514\n",
       "High        1146\n",
       "Name: injury flag, dtype: int64"
      ]
     },
     "execution_count": 45,
     "metadata": {},
     "output_type": "execute_result"
    }
   ],
   "source": [
    "collisions['injury flag'].value_counts(dropna = False)"
   ]
  },
  {
   "cell_type": "code",
   "execution_count": 46,
   "id": "ceaea1a4",
   "metadata": {},
   "outputs": [],
   "source": [
    "collisionsHigh = collisions.loc[collisions['injury flag'] == 'High']"
   ]
  },
  {
   "cell_type": "code",
   "execution_count": 48,
   "id": "e6245edc",
   "metadata": {},
   "outputs": [
    {
     "data": {
      "text/plain": [
       "(1146, 30)"
      ]
     },
     "execution_count": 48,
     "metadata": {},
     "output_type": "execute_result"
    }
   ],
   "source": [
    "collisionsHigh.shape"
   ]
  },
  {
   "cell_type": "code",
   "execution_count": 50,
   "id": "7cb43806",
   "metadata": {},
   "outputs": [
    {
     "data": {
      "text/html": [
       "<div>\n",
       "<style scoped>\n",
       "    .dataframe tbody tr th:only-of-type {\n",
       "        vertical-align: middle;\n",
       "    }\n",
       "\n",
       "    .dataframe tbody tr th {\n",
       "        vertical-align: top;\n",
       "    }\n",
       "\n",
       "    .dataframe thead th {\n",
       "        text-align: right;\n",
       "    }\n",
       "</style>\n",
       "<table border=\"1\" class=\"dataframe\">\n",
       "  <thead>\n",
       "    <tr style=\"text-align: right;\">\n",
       "      <th></th>\n",
       "      <th>LATITUDE</th>\n",
       "      <th>LONGITUDE</th>\n",
       "      <th>PERSONS INJURED</th>\n",
       "      <th>PERSONS KILLED</th>\n",
       "      <th>PEDESTRIANS INJURED</th>\n",
       "      <th>PEDESTRIANS KILLED</th>\n",
       "      <th>CYCLISTS INJURED</th>\n",
       "      <th>CYCLISTS KILLED</th>\n",
       "      <th>MOTORISTS INJURED</th>\n",
       "      <th>MOTORISTS KILLED</th>\n",
       "      <th>CRASH HOUR</th>\n",
       "      <th>CRASH YEAR</th>\n",
       "      <th>injuries flag</th>\n",
       "      <th>deaths flag</th>\n",
       "      <th>DUI flag</th>\n",
       "      <th>DUI</th>\n",
       "    </tr>\n",
       "  </thead>\n",
       "  <tbody>\n",
       "    <tr>\n",
       "      <th>count</th>\n",
       "      <td>1027.000000</td>\n",
       "      <td>1027.000000</td>\n",
       "      <td>1146.000000</td>\n",
       "      <td>1146.000000</td>\n",
       "      <td>1146.000000</td>\n",
       "      <td>1146.000000</td>\n",
       "      <td>1146.000000</td>\n",
       "      <td>1146.000000</td>\n",
       "      <td>1146.000000</td>\n",
       "      <td>1146.000000</td>\n",
       "      <td>1146.000000</td>\n",
       "      <td>1146.000000</td>\n",
       "      <td>1146.0</td>\n",
       "      <td>1146.000000</td>\n",
       "      <td>1146.000000</td>\n",
       "      <td>1146.000000</td>\n",
       "    </tr>\n",
       "    <tr>\n",
       "      <th>mean</th>\n",
       "      <td>40.526934</td>\n",
       "      <td>-73.544464</td>\n",
       "      <td>7.191972</td>\n",
       "      <td>0.020942</td>\n",
       "      <td>0.165794</td>\n",
       "      <td>0.008726</td>\n",
       "      <td>0.006108</td>\n",
       "      <td>0.001745</td>\n",
       "      <td>7.013962</td>\n",
       "      <td>0.010471</td>\n",
       "      <td>13.742583</td>\n",
       "      <td>2019.130890</td>\n",
       "      <td>1.0</td>\n",
       "      <td>0.009599</td>\n",
       "      <td>0.030541</td>\n",
       "      <td>490.039267</td>\n",
       "    </tr>\n",
       "    <tr>\n",
       "      <th>std</th>\n",
       "      <td>2.837398</td>\n",
       "      <td>5.147376</td>\n",
       "      <td>2.428320</td>\n",
       "      <td>0.294783</td>\n",
       "      <td>1.114611</td>\n",
       "      <td>0.191324</td>\n",
       "      <td>0.077950</td>\n",
       "      <td>0.059080</td>\n",
       "      <td>2.495722</td>\n",
       "      <td>0.138218</td>\n",
       "      <td>6.685777</td>\n",
       "      <td>1.697253</td>\n",
       "      <td>0.0</td>\n",
       "      <td>0.097544</td>\n",
       "      <td>0.172146</td>\n",
       "      <td>299.240972</td>\n",
       "    </tr>\n",
       "    <tr>\n",
       "      <th>min</th>\n",
       "      <td>0.000000</td>\n",
       "      <td>-74.235115</td>\n",
       "      <td>6.000000</td>\n",
       "      <td>0.000000</td>\n",
       "      <td>0.000000</td>\n",
       "      <td>0.000000</td>\n",
       "      <td>0.000000</td>\n",
       "      <td>0.000000</td>\n",
       "      <td>0.000000</td>\n",
       "      <td>0.000000</td>\n",
       "      <td>0.000000</td>\n",
       "      <td>2017.000000</td>\n",
       "      <td>1.0</td>\n",
       "      <td>0.000000</td>\n",
       "      <td>0.000000</td>\n",
       "      <td>122.000000</td>\n",
       "    </tr>\n",
       "    <tr>\n",
       "      <th>25%</th>\n",
       "      <td>40.662850</td>\n",
       "      <td>-73.946570</td>\n",
       "      <td>6.000000</td>\n",
       "      <td>0.000000</td>\n",
       "      <td>0.000000</td>\n",
       "      <td>0.000000</td>\n",
       "      <td>0.000000</td>\n",
       "      <td>0.000000</td>\n",
       "      <td>6.000000</td>\n",
       "      <td>0.000000</td>\n",
       "      <td>9.000000</td>\n",
       "      <td>2018.000000</td>\n",
       "      <td>1.0</td>\n",
       "      <td>0.000000</td>\n",
       "      <td>0.000000</td>\n",
       "      <td>203.000000</td>\n",
       "    </tr>\n",
       "    <tr>\n",
       "      <th>50%</th>\n",
       "      <td>40.702293</td>\n",
       "      <td>-73.905396</td>\n",
       "      <td>6.000000</td>\n",
       "      <td>0.000000</td>\n",
       "      <td>0.000000</td>\n",
       "      <td>0.000000</td>\n",
       "      <td>0.000000</td>\n",
       "      <td>0.000000</td>\n",
       "      <td>6.000000</td>\n",
       "      <td>0.000000</td>\n",
       "      <td>15.000000</td>\n",
       "      <td>2019.000000</td>\n",
       "      <td>1.0</td>\n",
       "      <td>0.000000</td>\n",
       "      <td>0.000000</td>\n",
       "      <td>398.000000</td>\n",
       "    </tr>\n",
       "    <tr>\n",
       "      <th>75%</th>\n",
       "      <td>40.808217</td>\n",
       "      <td>-73.849252</td>\n",
       "      <td>7.000000</td>\n",
       "      <td>0.000000</td>\n",
       "      <td>0.000000</td>\n",
       "      <td>0.000000</td>\n",
       "      <td>0.000000</td>\n",
       "      <td>0.000000</td>\n",
       "      <td>7.000000</td>\n",
       "      <td>0.000000</td>\n",
       "      <td>19.000000</td>\n",
       "      <td>2021.000000</td>\n",
       "      <td>1.0</td>\n",
       "      <td>0.000000</td>\n",
       "      <td>0.000000</td>\n",
       "      <td>781.000000</td>\n",
       "    </tr>\n",
       "    <tr>\n",
       "      <th>max</th>\n",
       "      <td>40.903040</td>\n",
       "      <td>0.000000</td>\n",
       "      <td>40.000000</td>\n",
       "      <td>8.000000</td>\n",
       "      <td>27.000000</td>\n",
       "      <td>6.000000</td>\n",
       "      <td>1.000000</td>\n",
       "      <td>2.000000</td>\n",
       "      <td>40.000000</td>\n",
       "      <td>3.000000</td>\n",
       "      <td>23.000000</td>\n",
       "      <td>2022.000000</td>\n",
       "      <td>1.0</td>\n",
       "      <td>1.000000</td>\n",
       "      <td>1.000000</td>\n",
       "      <td>1142.000000</td>\n",
       "    </tr>\n",
       "  </tbody>\n",
       "</table>\n",
       "</div>"
      ],
      "text/plain": [
       "          LATITUDE    LONGITUDE  PERSONS INJURED  PERSONS KILLED  \\\n",
       "count  1027.000000  1027.000000      1146.000000     1146.000000   \n",
       "mean     40.526934   -73.544464         7.191972        0.020942   \n",
       "std       2.837398     5.147376         2.428320        0.294783   \n",
       "min       0.000000   -74.235115         6.000000        0.000000   \n",
       "25%      40.662850   -73.946570         6.000000        0.000000   \n",
       "50%      40.702293   -73.905396         6.000000        0.000000   \n",
       "75%      40.808217   -73.849252         7.000000        0.000000   \n",
       "max      40.903040     0.000000        40.000000        8.000000   \n",
       "\n",
       "       PEDESTRIANS INJURED  PEDESTRIANS KILLED  CYCLISTS INJURED  \\\n",
       "count          1146.000000         1146.000000       1146.000000   \n",
       "mean              0.165794            0.008726          0.006108   \n",
       "std               1.114611            0.191324          0.077950   \n",
       "min               0.000000            0.000000          0.000000   \n",
       "25%               0.000000            0.000000          0.000000   \n",
       "50%               0.000000            0.000000          0.000000   \n",
       "75%               0.000000            0.000000          0.000000   \n",
       "max              27.000000            6.000000          1.000000   \n",
       "\n",
       "       CYCLISTS KILLED  MOTORISTS INJURED  MOTORISTS KILLED   CRASH HOUR  \\\n",
       "count      1146.000000        1146.000000       1146.000000  1146.000000   \n",
       "mean          0.001745           7.013962          0.010471    13.742583   \n",
       "std           0.059080           2.495722          0.138218     6.685777   \n",
       "min           0.000000           0.000000          0.000000     0.000000   \n",
       "25%           0.000000           6.000000          0.000000     9.000000   \n",
       "50%           0.000000           6.000000          0.000000    15.000000   \n",
       "75%           0.000000           7.000000          0.000000    19.000000   \n",
       "max           2.000000          40.000000          3.000000    23.000000   \n",
       "\n",
       "        CRASH YEAR  injuries flag  deaths flag     DUI flag          DUI  \n",
       "count  1146.000000         1146.0  1146.000000  1146.000000  1146.000000  \n",
       "mean   2019.130890            1.0     0.009599     0.030541   490.039267  \n",
       "std       1.697253            0.0     0.097544     0.172146   299.240972  \n",
       "min    2017.000000            1.0     0.000000     0.000000   122.000000  \n",
       "25%    2018.000000            1.0     0.000000     0.000000   203.000000  \n",
       "50%    2019.000000            1.0     0.000000     0.000000   398.000000  \n",
       "75%    2021.000000            1.0     0.000000     0.000000   781.000000  \n",
       "max    2022.000000            1.0     1.000000     1.000000  1142.000000  "
      ]
     },
     "execution_count": 50,
     "metadata": {},
     "output_type": "execute_result"
    }
   ],
   "source": [
    "collisionsHigh.describe()"
   ]
  },
  {
   "cell_type": "code",
   "execution_count": 20,
   "id": "5ed8b4fc",
   "metadata": {},
   "outputs": [],
   "source": [
    "collisions.to_csv(os.path.join(path, '02. Data', 'Prepared data', 'collisions_for_viz.csv'), index = False)"
   ]
  },
  {
   "cell_type": "code",
   "execution_count": 58,
   "id": "f44f081c",
   "metadata": {},
   "outputs": [],
   "source": [
    "import json\n",
    "\n",
    "with open(r'C:\\Users\\fiyin\\OneDrive\\Documents\\Achievement 6\\Borough Boundaries.geojson') as f:\n",
    "    \n",
    "    data = json.load(f)\n",
    "\n",
    "rows = []\n",
    "\n",
    "for feature in data['features']:\n",
    "    row = {\n",
    "            'borough': feature['properties']['boro_name'],\n",
    "            'coordinates': feature['geometry']['coordinates']\n",
    "          }\n",
    "    rows.append(row)"
   ]
  },
  {
   "cell_type": "code",
   "execution_count": 60,
   "id": "a2b04e27",
   "metadata": {},
   "outputs": [],
   "source": [
    "df = pd.DataFrame(rows)"
   ]
  },
  {
   "cell_type": "code",
   "execution_count": 61,
   "id": "825a584f",
   "metadata": {},
   "outputs": [
    {
     "data": {
      "text/plain": [
       "(5, 2)"
      ]
     },
     "execution_count": 61,
     "metadata": {},
     "output_type": "execute_result"
    }
   ],
   "source": [
    "df.shape"
   ]
  },
  {
   "cell_type": "code",
   "execution_count": 62,
   "id": "4a2236cb",
   "metadata": {
    "scrolled": true
   },
   "outputs": [
    {
     "data": {
      "text/html": [
       "<div>\n",
       "<style scoped>\n",
       "    .dataframe tbody tr th:only-of-type {\n",
       "        vertical-align: middle;\n",
       "    }\n",
       "\n",
       "    .dataframe tbody tr th {\n",
       "        vertical-align: top;\n",
       "    }\n",
       "\n",
       "    .dataframe thead th {\n",
       "        text-align: right;\n",
       "    }\n",
       "</style>\n",
       "<table border=\"1\" class=\"dataframe\">\n",
       "  <thead>\n",
       "    <tr style=\"text-align: right;\">\n",
       "      <th></th>\n",
       "      <th>borough</th>\n",
       "      <th>coordinates</th>\n",
       "    </tr>\n",
       "  </thead>\n",
       "  <tbody>\n",
       "    <tr>\n",
       "      <th>0</th>\n",
       "      <td>Staten Island</td>\n",
       "      <td>[[[[-74.05050806403247, 40.56642203416086], [-...</td>\n",
       "    </tr>\n",
       "    <tr>\n",
       "      <th>1</th>\n",
       "      <td>Bronx</td>\n",
       "      <td>[[[[-73.89680883223778, 40.79580844515982], [-...</td>\n",
       "    </tr>\n",
       "    <tr>\n",
       "      <th>2</th>\n",
       "      <td>Brooklyn</td>\n",
       "      <td>[[[[-73.86327471071958, 40.583876848531844], [...</td>\n",
       "    </tr>\n",
       "    <tr>\n",
       "      <th>3</th>\n",
       "      <td>Manhattan</td>\n",
       "      <td>[[[[-74.01092841268031, 40.68449147254299], [-...</td>\n",
       "    </tr>\n",
       "    <tr>\n",
       "      <th>4</th>\n",
       "      <td>Queens</td>\n",
       "      <td>[[[[-73.82644661516991, 40.59052744193831], [-...</td>\n",
       "    </tr>\n",
       "  </tbody>\n",
       "</table>\n",
       "</div>"
      ],
      "text/plain": [
       "         borough                                        coordinates\n",
       "0  Staten Island  [[[[-74.05050806403247, 40.56642203416086], [-...\n",
       "1          Bronx  [[[[-73.89680883223778, 40.79580844515982], [-...\n",
       "2       Brooklyn  [[[[-73.86327471071958, 40.583876848531844], [...\n",
       "3      Manhattan  [[[[-74.01092841268031, 40.68449147254299], [-...\n",
       "4         Queens  [[[[-73.82644661516991, 40.59052744193831], [-..."
      ]
     },
     "execution_count": 62,
     "metadata": {},
     "output_type": "execute_result"
    }
   ],
   "source": [
    "df.head()"
   ]
  },
  {
   "cell_type": "code",
   "execution_count": 63,
   "id": "12fe0441",
   "metadata": {},
   "outputs": [],
   "source": [
    "df['coordinates'] = df['coordinates'].astype('str')"
   ]
  },
  {
   "cell_type": "code",
   "execution_count": 64,
   "id": "04b73392",
   "metadata": {},
   "outputs": [],
   "source": [
    "df['coordinates'] = df['coordinates'].str[3:]"
   ]
  },
  {
   "cell_type": "code",
   "execution_count": 65,
   "id": "c8ff101e",
   "metadata": {
    "scrolled": false
   },
   "outputs": [
    {
     "data": {
      "text/html": [
       "<div>\n",
       "<style scoped>\n",
       "    .dataframe tbody tr th:only-of-type {\n",
       "        vertical-align: middle;\n",
       "    }\n",
       "\n",
       "    .dataframe tbody tr th {\n",
       "        vertical-align: top;\n",
       "    }\n",
       "\n",
       "    .dataframe thead th {\n",
       "        text-align: right;\n",
       "    }\n",
       "</style>\n",
       "<table border=\"1\" class=\"dataframe\">\n",
       "  <thead>\n",
       "    <tr style=\"text-align: right;\">\n",
       "      <th></th>\n",
       "      <th>borough</th>\n",
       "      <th>coordinates</th>\n",
       "    </tr>\n",
       "  </thead>\n",
       "  <tbody>\n",
       "    <tr>\n",
       "      <th>0</th>\n",
       "      <td>Staten Island</td>\n",
       "      <td>[-74.05050806403247, 40.56642203416086], [-74....</td>\n",
       "    </tr>\n",
       "    <tr>\n",
       "      <th>1</th>\n",
       "      <td>Bronx</td>\n",
       "      <td>[-73.89680883223778, 40.79580844515982], [-73....</td>\n",
       "    </tr>\n",
       "    <tr>\n",
       "      <th>2</th>\n",
       "      <td>Brooklyn</td>\n",
       "      <td>[-73.86327471071958, 40.583876848531844], [-73...</td>\n",
       "    </tr>\n",
       "    <tr>\n",
       "      <th>3</th>\n",
       "      <td>Manhattan</td>\n",
       "      <td>[-74.01092841268031, 40.68449147254299], [-74....</td>\n",
       "    </tr>\n",
       "    <tr>\n",
       "      <th>4</th>\n",
       "      <td>Queens</td>\n",
       "      <td>[-73.82644661516991, 40.59052744193831], [-73....</td>\n",
       "    </tr>\n",
       "  </tbody>\n",
       "</table>\n",
       "</div>"
      ],
      "text/plain": [
       "         borough                                        coordinates\n",
       "0  Staten Island  [-74.05050806403247, 40.56642203416086], [-74....\n",
       "1          Bronx  [-73.89680883223778, 40.79580844515982], [-73....\n",
       "2       Brooklyn  [-73.86327471071958, 40.583876848531844], [-73...\n",
       "3      Manhattan  [-74.01092841268031, 40.68449147254299], [-74....\n",
       "4         Queens  [-73.82644661516991, 40.59052744193831], [-73...."
      ]
     },
     "execution_count": 65,
     "metadata": {},
     "output_type": "execute_result"
    }
   ],
   "source": [
    "df.head()\n",
    "    "
   ]
  },
  {
   "cell_type": "code",
   "execution_count": 14,
   "id": "f06b23f5",
   "metadata": {},
   "outputs": [],
   "source": [
    "import json\n",
    "\n",
    "with open(r'C:\\Users\\fiyin\\OneDrive\\Documents\\Achievement 6\\Borough Boundaries.geojson') as f:\n",
    "    \n",
    "    data = json.load(f)"
   ]
  },
  {
   "cell_type": "code",
   "execution_count": 17,
   "id": "3d256502",
   "metadata": {},
   "outputs": [
    {
     "name": "stderr",
     "output_type": "stream",
     "text": [
      "C:\\Users\\fiyin\\AppData\\Local\\Temp\\ipykernel_19636\\3684531711.py:2: FutureWarning: pandas.io.json.json_normalize is deprecated, use pandas.json_normalize instead.\n",
      "  df = json_normalize(data[\"features\"])\n"
     ]
    },
    {
     "ename": "KeyError",
     "evalue": "'properties.geometry.coordinates'",
     "output_type": "error",
     "traceback": [
      "\u001b[1;31m---------------------------------------------------------------------------\u001b[0m",
      "\u001b[1;31mKeyError\u001b[0m                                  Traceback (most recent call last)",
      "\u001b[1;32m~\\anaconda3\\lib\\site-packages\\pandas\\core\\indexes\\base.py\u001b[0m in \u001b[0;36mget_loc\u001b[1;34m(self, key, method, tolerance)\u001b[0m\n\u001b[0;32m   3628\u001b[0m             \u001b[1;32mtry\u001b[0m\u001b[1;33m:\u001b[0m\u001b[1;33m\u001b[0m\u001b[1;33m\u001b[0m\u001b[0m\n\u001b[1;32m-> 3629\u001b[1;33m                 \u001b[1;32mreturn\u001b[0m \u001b[0mself\u001b[0m\u001b[1;33m.\u001b[0m\u001b[0m_engine\u001b[0m\u001b[1;33m.\u001b[0m\u001b[0mget_loc\u001b[0m\u001b[1;33m(\u001b[0m\u001b[0mcasted_key\u001b[0m\u001b[1;33m)\u001b[0m\u001b[1;33m\u001b[0m\u001b[1;33m\u001b[0m\u001b[0m\n\u001b[0m\u001b[0;32m   3630\u001b[0m             \u001b[1;32mexcept\u001b[0m \u001b[0mKeyError\u001b[0m \u001b[1;32mas\u001b[0m \u001b[0merr\u001b[0m\u001b[1;33m:\u001b[0m\u001b[1;33m\u001b[0m\u001b[1;33m\u001b[0m\u001b[0m\n",
      "\u001b[1;32m~\\anaconda3\\lib\\site-packages\\pandas\\_libs\\index.pyx\u001b[0m in \u001b[0;36mpandas._libs.index.IndexEngine.get_loc\u001b[1;34m()\u001b[0m\n",
      "\u001b[1;32m~\\anaconda3\\lib\\site-packages\\pandas\\_libs\\index.pyx\u001b[0m in \u001b[0;36mpandas._libs.index.IndexEngine.get_loc\u001b[1;34m()\u001b[0m\n",
      "\u001b[1;32mpandas\\_libs\\hashtable_class_helper.pxi\u001b[0m in \u001b[0;36mpandas._libs.hashtable.PyObjectHashTable.get_item\u001b[1;34m()\u001b[0m\n",
      "\u001b[1;32mpandas\\_libs\\hashtable_class_helper.pxi\u001b[0m in \u001b[0;36mpandas._libs.hashtable.PyObjectHashTable.get_item\u001b[1;34m()\u001b[0m\n",
      "\u001b[1;31mKeyError\u001b[0m: 'properties.geometry.coordinates'",
      "\nThe above exception was the direct cause of the following exception:\n",
      "\u001b[1;31mKeyError\u001b[0m                                  Traceback (most recent call last)",
      "\u001b[1;32m~\\AppData\\Local\\Temp\\ipykernel_19636\\3684531711.py\u001b[0m in \u001b[0;36m<module>\u001b[1;34m\u001b[0m\n\u001b[0;32m      4\u001b[0m \u001b[0mcoords\u001b[0m \u001b[1;33m=\u001b[0m \u001b[1;34m'properties.geometry.coordinates'\u001b[0m\u001b[1;33m\u001b[0m\u001b[1;33m\u001b[0m\u001b[0m\n\u001b[0;32m      5\u001b[0m \u001b[1;33m\u001b[0m\u001b[0m\n\u001b[1;32m----> 6\u001b[1;33m df2 = (df[coords].apply(lambda r: [(i[0],i[1]) for i in r[0]])\n\u001b[0m\u001b[0;32m      7\u001b[0m            \u001b[1;33m.\u001b[0m\u001b[0mapply\u001b[0m\u001b[1;33m(\u001b[0m\u001b[0mpd\u001b[0m\u001b[1;33m.\u001b[0m\u001b[0mSeries\u001b[0m\u001b[1;33m)\u001b[0m\u001b[1;33m.\u001b[0m\u001b[0mstack\u001b[0m\u001b[1;33m(\u001b[0m\u001b[1;33m)\u001b[0m\u001b[1;33m\u001b[0m\u001b[1;33m\u001b[0m\u001b[0m\n\u001b[0;32m      8\u001b[0m            \u001b[1;33m.\u001b[0m\u001b[0mreset_index\u001b[0m\u001b[1;33m(\u001b[0m\u001b[0mlevel\u001b[0m\u001b[1;33m=\u001b[0m\u001b[1;36m1\u001b[0m\u001b[1;33m)\u001b[0m\u001b[1;33m.\u001b[0m\u001b[0mrename\u001b[0m\u001b[1;33m(\u001b[0m\u001b[0mcolumns\u001b[0m\u001b[1;33m=\u001b[0m\u001b[1;33m{\u001b[0m\u001b[1;36m0\u001b[0m\u001b[1;33m:\u001b[0m\u001b[0mcoords\u001b[0m\u001b[1;33m,\u001b[0m\u001b[1;34m\"level_1\"\u001b[0m\u001b[1;33m:\u001b[0m\u001b[1;34m\"point\"\u001b[0m\u001b[1;33m}\u001b[0m\u001b[1;33m)\u001b[0m\u001b[1;33m\u001b[0m\u001b[1;33m\u001b[0m\u001b[0m\n",
      "\u001b[1;32m~\\anaconda3\\lib\\site-packages\\pandas\\core\\frame.py\u001b[0m in \u001b[0;36m__getitem__\u001b[1;34m(self, key)\u001b[0m\n\u001b[0;32m   3503\u001b[0m             \u001b[1;32mif\u001b[0m \u001b[0mself\u001b[0m\u001b[1;33m.\u001b[0m\u001b[0mcolumns\u001b[0m\u001b[1;33m.\u001b[0m\u001b[0mnlevels\u001b[0m \u001b[1;33m>\u001b[0m \u001b[1;36m1\u001b[0m\u001b[1;33m:\u001b[0m\u001b[1;33m\u001b[0m\u001b[1;33m\u001b[0m\u001b[0m\n\u001b[0;32m   3504\u001b[0m                 \u001b[1;32mreturn\u001b[0m \u001b[0mself\u001b[0m\u001b[1;33m.\u001b[0m\u001b[0m_getitem_multilevel\u001b[0m\u001b[1;33m(\u001b[0m\u001b[0mkey\u001b[0m\u001b[1;33m)\u001b[0m\u001b[1;33m\u001b[0m\u001b[1;33m\u001b[0m\u001b[0m\n\u001b[1;32m-> 3505\u001b[1;33m             \u001b[0mindexer\u001b[0m \u001b[1;33m=\u001b[0m \u001b[0mself\u001b[0m\u001b[1;33m.\u001b[0m\u001b[0mcolumns\u001b[0m\u001b[1;33m.\u001b[0m\u001b[0mget_loc\u001b[0m\u001b[1;33m(\u001b[0m\u001b[0mkey\u001b[0m\u001b[1;33m)\u001b[0m\u001b[1;33m\u001b[0m\u001b[1;33m\u001b[0m\u001b[0m\n\u001b[0m\u001b[0;32m   3506\u001b[0m             \u001b[1;32mif\u001b[0m \u001b[0mis_integer\u001b[0m\u001b[1;33m(\u001b[0m\u001b[0mindexer\u001b[0m\u001b[1;33m)\u001b[0m\u001b[1;33m:\u001b[0m\u001b[1;33m\u001b[0m\u001b[1;33m\u001b[0m\u001b[0m\n\u001b[0;32m   3507\u001b[0m                 \u001b[0mindexer\u001b[0m \u001b[1;33m=\u001b[0m \u001b[1;33m[\u001b[0m\u001b[0mindexer\u001b[0m\u001b[1;33m]\u001b[0m\u001b[1;33m\u001b[0m\u001b[1;33m\u001b[0m\u001b[0m\n",
      "\u001b[1;32m~\\anaconda3\\lib\\site-packages\\pandas\\core\\indexes\\base.py\u001b[0m in \u001b[0;36mget_loc\u001b[1;34m(self, key, method, tolerance)\u001b[0m\n\u001b[0;32m   3629\u001b[0m                 \u001b[1;32mreturn\u001b[0m \u001b[0mself\u001b[0m\u001b[1;33m.\u001b[0m\u001b[0m_engine\u001b[0m\u001b[1;33m.\u001b[0m\u001b[0mget_loc\u001b[0m\u001b[1;33m(\u001b[0m\u001b[0mcasted_key\u001b[0m\u001b[1;33m)\u001b[0m\u001b[1;33m\u001b[0m\u001b[1;33m\u001b[0m\u001b[0m\n\u001b[0;32m   3630\u001b[0m             \u001b[1;32mexcept\u001b[0m \u001b[0mKeyError\u001b[0m \u001b[1;32mas\u001b[0m \u001b[0merr\u001b[0m\u001b[1;33m:\u001b[0m\u001b[1;33m\u001b[0m\u001b[1;33m\u001b[0m\u001b[0m\n\u001b[1;32m-> 3631\u001b[1;33m                 \u001b[1;32mraise\u001b[0m \u001b[0mKeyError\u001b[0m\u001b[1;33m(\u001b[0m\u001b[0mkey\u001b[0m\u001b[1;33m)\u001b[0m \u001b[1;32mfrom\u001b[0m \u001b[0merr\u001b[0m\u001b[1;33m\u001b[0m\u001b[1;33m\u001b[0m\u001b[0m\n\u001b[0m\u001b[0;32m   3632\u001b[0m             \u001b[1;32mexcept\u001b[0m \u001b[0mTypeError\u001b[0m\u001b[1;33m:\u001b[0m\u001b[1;33m\u001b[0m\u001b[1;33m\u001b[0m\u001b[0m\n\u001b[0;32m   3633\u001b[0m                 \u001b[1;31m# If we have a listlike key, _check_indexing_error will raise\u001b[0m\u001b[1;33m\u001b[0m\u001b[1;33m\u001b[0m\u001b[0m\n",
      "\u001b[1;31mKeyError\u001b[0m: 'properties.geometry.coordinates'"
     ]
    }
   ],
   "source": [
    "from pandas.io.json import json_normalize\n",
    "df = json_normalize(data[\"features\"])\n",
    "\n",
    "coords = 'properties.geometry.coordinates'\n",
    "\n",
    "df2 = (df[coords].apply(lambda r: [(i[0],i[1]) for i in r[0]])\n",
    "           .apply(pd.Series).stack()\n",
    "           .reset_index(level=1).rename(columns={0:coords,\"level_1\":\"point\"})\n",
    "           .join(df.drop(coords,1), how='left')).reset_index(level=0)\n",
    "\n",
    "df2[['lat','long']] = df2[coords].apply(pd.Series)\n",
    "\n",
    "df2"
   ]
  },
  {
   "cell_type": "code",
   "execution_count": null,
   "id": "132531f5",
   "metadata": {},
   "outputs": [],
   "source": []
  }
 ],
 "metadata": {
  "kernelspec": {
   "display_name": "Python 3 (ipykernel)",
   "language": "python",
   "name": "python3"
  },
  "language_info": {
   "codemirror_mode": {
    "name": "ipython",
    "version": 3
   },
   "file_extension": ".py",
   "mimetype": "text/x-python",
   "name": "python",
   "nbconvert_exporter": "python",
   "pygments_lexer": "ipython3",
   "version": "3.9.13"
  }
 },
 "nbformat": 4,
 "nbformat_minor": 5
}
