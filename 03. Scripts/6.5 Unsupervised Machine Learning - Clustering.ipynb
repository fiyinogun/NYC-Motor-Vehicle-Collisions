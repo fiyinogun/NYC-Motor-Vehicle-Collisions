{
 "cells": [
  {
   "cell_type": "markdown",
   "id": "19c6abcd",
   "metadata": {},
   "source": [
    "# UNSUPERVISED MACHINE LEARNING: CLUSTERING"
   ]
  },
  {
   "cell_type": "markdown",
   "id": "12aea401",
   "metadata": {},
   "source": [
    "###### Contents:\n",
    "\n",
    "- 01. Importing libraries and data\n",
    "\n",
    "- 02. The Elbow Technique\n",
    "\n",
    "- 03. K-means clustering"
   ]
  },
  {
   "cell_type": "markdown",
   "id": "aeeb3b1f",
   "metadata": {},
   "source": [
    "### 01. Importing libraries and data"
   ]
  },
  {
   "cell_type": "code",
   "execution_count": 1,
   "id": "5739e5dd",
   "metadata": {},
   "outputs": [],
   "source": [
    "import pandas as pd\n",
    "import numpy as np\n",
    "import seaborn as sns\n",
    "import matplotlib\n",
    "import matplotlib.pyplot as plt\n",
    "import os\n",
    "import sklearn\n",
    "from sklearn.cluster import KMeans\n",
    "import pylab as pl "
   ]
  },
  {
   "cell_type": "code",
   "execution_count": 2,
   "id": "788c3feb",
   "metadata": {},
   "outputs": [],
   "source": [
    "%matplotlib inline"
   ]
  },
  {
   "cell_type": "code",
   "execution_count": 3,
   "id": "7fd8f046",
   "metadata": {},
   "outputs": [],
   "source": [
    "# Assign path\n",
    "\n",
    "path = r'C:\\Users\\fiyin\\OneDrive\\Documents\\Achievement 6\\NYC Motor Vehicle Collisons Analysis'"
   ]
  },
  {
   "cell_type": "code",
   "execution_count": 4,
   "id": "99873b0b",
   "metadata": {},
   "outputs": [],
   "source": [
    "# Import data\n",
    "\n",
    "collisions = pd.read_pickle(os.path.join(path, '02. Data', 'Prepared data', 'collisions_explored.pkl'))"
   ]
  },
  {
   "cell_type": "code",
   "execution_count": 5,
   "id": "86e1e08c",
   "metadata": {},
   "outputs": [
    {
     "data": {
      "text/plain": [
       "(1001137, 34)"
      ]
     },
     "execution_count": 5,
     "metadata": {},
     "output_type": "execute_result"
    }
   ],
   "source": [
    "collisions.shape"
   ]
  },
  {
   "cell_type": "code",
   "execution_count": 6,
   "id": "a8793dd3",
   "metadata": {},
   "outputs": [
    {
     "data": {
      "text/html": [
       "<div>\n",
       "<style scoped>\n",
       "    .dataframe tbody tr th:only-of-type {\n",
       "        vertical-align: middle;\n",
       "    }\n",
       "\n",
       "    .dataframe tbody tr th {\n",
       "        vertical-align: top;\n",
       "    }\n",
       "\n",
       "    .dataframe thead th {\n",
       "        text-align: right;\n",
       "    }\n",
       "</style>\n",
       "<table border=\"1\" class=\"dataframe\">\n",
       "  <thead>\n",
       "    <tr style=\"text-align: right;\">\n",
       "      <th></th>\n",
       "      <th>CRASH DATE</th>\n",
       "      <th>CRASH TIME</th>\n",
       "      <th>BOROUGH</th>\n",
       "      <th>ZIP CODE</th>\n",
       "      <th>LATITUDE</th>\n",
       "      <th>LONGITUDE</th>\n",
       "      <th>LOCATION</th>\n",
       "      <th>ON STREET NAME</th>\n",
       "      <th>PERSONS INJURED</th>\n",
       "      <th>PERSONS KILLED</th>\n",
       "      <th>...</th>\n",
       "      <th>CRASH Y-M</th>\n",
       "      <th>CRASH MONTH NO</th>\n",
       "      <th>CRASH MONTH</th>\n",
       "      <th>INJURY FLAG</th>\n",
       "      <th>DEATH FLAG</th>\n",
       "      <th>COVID FLAG</th>\n",
       "      <th>DUI FLAG</th>\n",
       "      <th>DUI SUM</th>\n",
       "      <th>INJURED BOROUGH TOTAL</th>\n",
       "      <th>KILLED BOROUGH TOTAL</th>\n",
       "    </tr>\n",
       "  </thead>\n",
       "  <tbody>\n",
       "    <tr>\n",
       "      <th>0</th>\n",
       "      <td>2021-09-11</td>\n",
       "      <td>02:39:00</td>\n",
       "      <td>NaN</td>\n",
       "      <td>NaN</td>\n",
       "      <td>NaN</td>\n",
       "      <td>NaN</td>\n",
       "      <td>NaN</td>\n",
       "      <td>WHITESTONE EXPRESSWAY</td>\n",
       "      <td>2</td>\n",
       "      <td>0</td>\n",
       "      <td>...</td>\n",
       "      <td>2021-09</td>\n",
       "      <td>09</td>\n",
       "      <td>September</td>\n",
       "      <td>1.0</td>\n",
       "      <td>0.0</td>\n",
       "      <td>Covid and after</td>\n",
       "      <td>0.0</td>\n",
       "      <td>860.0</td>\n",
       "      <td>NaN</td>\n",
       "      <td>NaN</td>\n",
       "    </tr>\n",
       "    <tr>\n",
       "      <th>1</th>\n",
       "      <td>2022-03-26</td>\n",
       "      <td>11:45:00</td>\n",
       "      <td>NaN</td>\n",
       "      <td>NaN</td>\n",
       "      <td>NaN</td>\n",
       "      <td>NaN</td>\n",
       "      <td>NaN</td>\n",
       "      <td>QUEENSBORO BRIDGE UPPER</td>\n",
       "      <td>1</td>\n",
       "      <td>0</td>\n",
       "      <td>...</td>\n",
       "      <td>2022-03</td>\n",
       "      <td>03</td>\n",
       "      <td>March</td>\n",
       "      <td>1.0</td>\n",
       "      <td>0.0</td>\n",
       "      <td>Covid and after</td>\n",
       "      <td>0.0</td>\n",
       "      <td>137.0</td>\n",
       "      <td>NaN</td>\n",
       "      <td>NaN</td>\n",
       "    </tr>\n",
       "    <tr>\n",
       "      <th>2</th>\n",
       "      <td>2022-06-29</td>\n",
       "      <td>06:55:00</td>\n",
       "      <td>NaN</td>\n",
       "      <td>NaN</td>\n",
       "      <td>NaN</td>\n",
       "      <td>NaN</td>\n",
       "      <td>NaN</td>\n",
       "      <td>THROGS NECK BRIDGE</td>\n",
       "      <td>0</td>\n",
       "      <td>0</td>\n",
       "      <td>...</td>\n",
       "      <td>2022-06</td>\n",
       "      <td>06</td>\n",
       "      <td>June</td>\n",
       "      <td>0.0</td>\n",
       "      <td>0.0</td>\n",
       "      <td>Covid and after</td>\n",
       "      <td>0.0</td>\n",
       "      <td>398.0</td>\n",
       "      <td>NaN</td>\n",
       "      <td>NaN</td>\n",
       "    </tr>\n",
       "    <tr>\n",
       "      <th>3</th>\n",
       "      <td>2021-09-11</td>\n",
       "      <td>09:35:00</td>\n",
       "      <td>BROOKLYN</td>\n",
       "      <td>11208.0</td>\n",
       "      <td>40.667202</td>\n",
       "      <td>-73.866500</td>\n",
       "      <td>(40.667202, -73.8665)</td>\n",
       "      <td>NaN</td>\n",
       "      <td>0</td>\n",
       "      <td>0</td>\n",
       "      <td>...</td>\n",
       "      <td>2021-09</td>\n",
       "      <td>09</td>\n",
       "      <td>September</td>\n",
       "      <td>0.0</td>\n",
       "      <td>0.0</td>\n",
       "      <td>Covid and after</td>\n",
       "      <td>0.0</td>\n",
       "      <td>192.0</td>\n",
       "      <td>71157.0</td>\n",
       "      <td>288.0</td>\n",
       "    </tr>\n",
       "    <tr>\n",
       "      <th>4</th>\n",
       "      <td>2021-12-14</td>\n",
       "      <td>08:13:00</td>\n",
       "      <td>BROOKLYN</td>\n",
       "      <td>11233.0</td>\n",
       "      <td>40.683304</td>\n",
       "      <td>-73.917274</td>\n",
       "      <td>(40.683304, -73.917274)</td>\n",
       "      <td>SARATOGA AVENUE</td>\n",
       "      <td>0</td>\n",
       "      <td>0</td>\n",
       "      <td>...</td>\n",
       "      <td>2021-12</td>\n",
       "      <td>12</td>\n",
       "      <td>December</td>\n",
       "      <td>0.0</td>\n",
       "      <td>0.0</td>\n",
       "      <td>Covid and after</td>\n",
       "      <td>0.0</td>\n",
       "      <td>222.0</td>\n",
       "      <td>71157.0</td>\n",
       "      <td>288.0</td>\n",
       "    </tr>\n",
       "  </tbody>\n",
       "</table>\n",
       "<p>5 rows × 34 columns</p>\n",
       "</div>"
      ],
      "text/plain": [
       "   CRASH DATE CRASH TIME   BOROUGH ZIP CODE   LATITUDE  LONGITUDE  \\\n",
       "0  2021-09-11   02:39:00       NaN      NaN        NaN        NaN   \n",
       "1  2022-03-26   11:45:00       NaN      NaN        NaN        NaN   \n",
       "2  2022-06-29   06:55:00       NaN      NaN        NaN        NaN   \n",
       "3  2021-09-11   09:35:00  BROOKLYN  11208.0  40.667202 -73.866500   \n",
       "4  2021-12-14   08:13:00  BROOKLYN  11233.0  40.683304 -73.917274   \n",
       "\n",
       "                  LOCATION           ON STREET NAME  PERSONS INJURED  \\\n",
       "0                      NaN    WHITESTONE EXPRESSWAY                2   \n",
       "1                      NaN  QUEENSBORO BRIDGE UPPER                1   \n",
       "2                      NaN       THROGS NECK BRIDGE                0   \n",
       "3    (40.667202, -73.8665)                      NaN                0   \n",
       "4  (40.683304, -73.917274)          SARATOGA AVENUE                0   \n",
       "\n",
       "   PERSONS KILLED  ...  CRASH Y-M  CRASH MONTH NO  CRASH MONTH  INJURY FLAG  \\\n",
       "0               0  ...    2021-09              09    September          1.0   \n",
       "1               0  ...    2022-03              03        March          1.0   \n",
       "2               0  ...    2022-06              06         June          0.0   \n",
       "3               0  ...    2021-09              09    September          0.0   \n",
       "4               0  ...    2021-12              12     December          0.0   \n",
       "\n",
       "   DEATH FLAG       COVID FLAG DUI FLAG DUI SUM INJURED BOROUGH TOTAL  \\\n",
       "0         0.0  Covid and after      0.0   860.0                   NaN   \n",
       "1         0.0  Covid and after      0.0   137.0                   NaN   \n",
       "2         0.0  Covid and after      0.0   398.0                   NaN   \n",
       "3         0.0  Covid and after      0.0   192.0               71157.0   \n",
       "4         0.0  Covid and after      0.0   222.0               71157.0   \n",
       "\n",
       "  KILLED BOROUGH TOTAL  \n",
       "0                  NaN  \n",
       "1                  NaN  \n",
       "2                  NaN  \n",
       "3                288.0  \n",
       "4                288.0  \n",
       "\n",
       "[5 rows x 34 columns]"
      ]
     },
     "execution_count": 6,
     "metadata": {},
     "output_type": "execute_result"
    }
   ],
   "source": [
    "collisions.head()"
   ]
  },
  {
   "cell_type": "code",
   "execution_count": 7,
   "id": "b0d8f954",
   "metadata": {},
   "outputs": [
    {
     "data": {
      "text/plain": [
       "Index(['CRASH DATE', 'CRASH TIME', 'BOROUGH', 'ZIP CODE', 'LATITUDE',\n",
       "       'LONGITUDE', 'LOCATION', 'ON STREET NAME', 'PERSONS INJURED',\n",
       "       'PERSONS KILLED', 'PEDESTRIANS INJURED', 'PEDESTRIANS KILLED',\n",
       "       'CYCLISTS INJURED', 'CYCLISTS KILLED', 'MOTORISTS INJURED',\n",
       "       'MOTORISTS KILLED', 'CAUSE VEHICLE 1', 'CAUSE VEHICLE 2',\n",
       "       'VEHICLE 1 TYPE', 'VEHICLE 2 TYPE', 'INJURED TOTAL', 'KILLED TOTAL',\n",
       "       'CRASH HOUR', 'CRASH YEAR', 'CRASH Y-M', 'CRASH MONTH NO',\n",
       "       'CRASH MONTH', 'INJURY FLAG', 'DEATH FLAG', 'COVID FLAG', 'DUI FLAG',\n",
       "       'DUI SUM', 'INJURED BOROUGH TOTAL', 'KILLED BOROUGH TOTAL'],\n",
       "      dtype='object')"
      ]
     },
     "execution_count": 7,
     "metadata": {},
     "output_type": "execute_result"
    }
   ],
   "source": [
    "collisions.columns"
   ]
  },
  {
   "cell_type": "code",
   "execution_count": 8,
   "id": "c4aaa41a",
   "metadata": {},
   "outputs": [
    {
     "data": {
      "text/plain": [
       "Index(['CRASH DATE', 'CRASH TIME', 'BOROUGH', 'ZIP CODE', 'LATITUDE',\n",
       "       'LONGITUDE', 'LOCATION', 'ON STREET NAME', 'PERSONS INJURED',\n",
       "       'PERSONS KILLED', 'PEDESTRIANS INJURED', 'PEDESTRIANS KILLED',\n",
       "       'CYCLISTS INJURED', 'CYCLISTS KILLED', 'MOTORISTS INJURED',\n",
       "       'MOTORISTS KILLED', 'CAUSE VEHICLE 1', 'CAUSE VEHICLE 2',\n",
       "       'VEHICLE 1 TYPE', 'VEHICLE 2 TYPE', 'INJURED TOTAL', 'KILLED TOTAL',\n",
       "       'CRASH HOUR', 'CRASH YEAR', 'CRASH Y-M', 'CRASH MONTH NO',\n",
       "       'CRASH MONTH', 'INJURY FLAG', 'DEATH FLAG', 'COVID FLAG', 'DUI FLAG',\n",
       "       'DUI SUM', 'INJURED BOROUGH TOTAL', 'KILLED BOROUGH TOTAL'],\n",
       "      dtype='object')"
      ]
     },
     "execution_count": 8,
     "metadata": {},
     "output_type": "execute_result"
    }
   ],
   "source": [
    "collisions.columns"
   ]
  },
  {
   "cell_type": "code",
   "execution_count": 9,
   "id": "9f1f5f7b",
   "metadata": {},
   "outputs": [],
   "source": [
    "# Creating subset to be used for clustering analysis\n",
    "\n",
    "collisions_sub = collisions[['CRASH HOUR', 'PERSONS INJURED', 'PERSONS KILLED',\n",
    "                             'PEDESTRIANS INJURED', 'PEDESTRIANS KILLED',\n",
    "                             'CYCLISTS KILLED', 'CYCLISTS INJURED',\n",
    "                             'MOTORISTS KILLED', 'MOTORISTS INJURED']]"
   ]
  },
  {
   "cell_type": "code",
   "execution_count": 10,
   "id": "c3ae4443",
   "metadata": {},
   "outputs": [
    {
     "data": {
      "text/plain": [
       "(1001137, 9)"
      ]
     },
     "execution_count": 10,
     "metadata": {},
     "output_type": "execute_result"
    }
   ],
   "source": [
    "collisions_sub.shape"
   ]
  },
  {
   "cell_type": "markdown",
   "id": "9fa54ac5",
   "metadata": {},
   "source": [
    "### 02. Elbow Technique"
   ]
  },
  {
   "cell_type": "code",
   "execution_count": 11,
   "id": "5bb64d43",
   "metadata": {},
   "outputs": [],
   "source": [
    "num_cl = range(1, 10) # Defines the range of potential clusters in the data.\n",
    "\n",
    "kmeans = [KMeans(n_clusters = i) for i in num_cl] # Defines k-means clusters in the range assigned above."
   ]
  },
  {
   "cell_type": "code",
   "execution_count": 12,
   "id": "ab105a31",
   "metadata": {},
   "outputs": [
    {
     "data": {
      "text/plain": [
       "[-35481693.10397075,\n",
       " -11952359.532509739,\n",
       " -6549363.988865534,\n",
       " -3863493.2374198413,\n",
       " -2784696.675585889,\n",
       " -2228552.2266473607,\n",
       " -1884877.1110875309,\n",
       " -1677189.333546307,\n",
       " -1484346.6530916102]"
      ]
     },
     "execution_count": 12,
     "metadata": {},
     "output_type": "execute_result"
    }
   ],
   "source": [
    "# Create a score that represents a rate of variation for the given cluster option.\n",
    "\n",
    "score = [kmeans[i].fit(collisions_sub).score(collisions_sub) for i in range(len(kmeans))]\n",
    "\n",
    "score"
   ]
  },
  {
   "cell_type": "code",
   "execution_count": 13,
   "id": "74197666",
   "metadata": {},
   "outputs": [
    {
     "data": {
      "image/png": "[encoded data removed]",
      "text/plain": [
       "<Figure size 640x480 with 1 Axes>"
      ]
     },
     "metadata": {},
     "output_type": "display_data"
    }
   ],
   "source": [
    "# Plot the elbow curve using PyLab.\n",
    "\n",
    "pl.plot(num_cl, score)\n",
    "pl.xlabel('Number of Clusters')\n",
    "pl.ylabel('Score')\n",
    "pl.title('Elbow Curve')\n",
    "plt.savefig(os.path.join(path, '04. Analysis', 'Visualizations', 'elbow_curve.png'))\n",
    "pl.show()"
   ]
  },
  {
   "cell_type": "markdown",
   "id": "c120d5e5",
   "metadata": {},
   "source": [
    "\n",
    "###### Notes:\n",
    "Even though there is a slight rise in the curve bewtween four and five, four clusters will be most optimal because that is the point where the curve begins to flatten out."
   ]
  },
  {
   "cell_type": "markdown",
   "id": "72a1dc28",
   "metadata": {},
   "source": [
    "### 03. K-means clustering"
   ]
  },
  {
   "cell_type": "code",
   "execution_count": 14,
   "id": "68a76664",
   "metadata": {},
   "outputs": [],
   "source": [
    "# Create the k-means object.\n",
    "\n",
    "kmeans = KMeans(n_clusters = 4)"
   ]
  },
  {
   "cell_type": "code",
   "execution_count": 15,
   "id": "bdb1c1c8",
   "metadata": {},
   "outputs": [
    {
     "data": {
      "text/plain": [
       "KMeans(n_clusters=4)"
      ]
     },
     "execution_count": 15,
     "metadata": {},
     "output_type": "execute_result"
    }
   ],
   "source": [
    "# Fit the k-means object to the data.\n",
    "\n",
    "kmeans.fit(collisions_sub)"
   ]
  },
  {
   "cell_type": "code",
   "execution_count": 16,
   "id": "b9565e29",
   "metadata": {},
   "outputs": [
    {
     "name": "stderr",
     "output_type": "stream",
     "text": [
      "C:\\Users\\fiyin\\AppData\\Local\\Temp\\ipykernel_6844\\226043476.py:3: SettingWithCopyWarning: \n",
      "A value is trying to be set on a copy of a slice from a DataFrame.\n",
      "Try using .loc[row_indexer,col_indexer] = value instead\n",
      "\n",
      "See the caveats in the documentation: https://pandas.pydata.org/pandas-docs/stable/user_guide/indexing.html#returning-a-view-versus-a-copy\n",
      "  collisions_sub['CLUSTERS'] = kmeans.fit_predict(collisions_sub)\n"
     ]
    }
   ],
   "source": [
    "# Create new column in subset to store the values representing each cluster\n",
    "\n",
    "collisions_sub['CLUSTERS'] = kmeans.fit_predict(collisions_sub)"
   ]
  },
  {
   "cell_type": "code",
   "execution_count": 17,
   "id": "15768613",
   "metadata": {},
   "outputs": [
    {
     "data": {
      "text/html": [
       "<div>\n",
       "<style scoped>\n",
       "    .dataframe tbody tr th:only-of-type {\n",
       "        vertical-align: middle;\n",
       "    }\n",
       "\n",
       "    .dataframe tbody tr th {\n",
       "        vertical-align: top;\n",
       "    }\n",
       "\n",
       "    .dataframe thead th {\n",
       "        text-align: right;\n",
       "    }\n",
       "</style>\n",
       "<table border=\"1\" class=\"dataframe\">\n",
       "  <thead>\n",
       "    <tr style=\"text-align: right;\">\n",
       "      <th></th>\n",
       "      <th>CRASH HOUR</th>\n",
       "      <th>PERSONS INJURED</th>\n",
       "      <th>PERSONS KILLED</th>\n",
       "      <th>PEDESTRIANS INJURED</th>\n",
       "      <th>PEDESTRIANS KILLED</th>\n",
       "      <th>CYCLISTS KILLED</th>\n",
       "      <th>CYCLISTS INJURED</th>\n",
       "      <th>MOTORISTS KILLED</th>\n",
       "      <th>MOTORISTS INJURED</th>\n",
       "      <th>CLUSTERS</th>\n",
       "    </tr>\n",
       "  </thead>\n",
       "  <tbody>\n",
       "    <tr>\n",
       "      <th>0</th>\n",
       "      <td>2</td>\n",
       "      <td>2</td>\n",
       "      <td>0</td>\n",
       "      <td>0</td>\n",
       "      <td>0</td>\n",
       "      <td>0</td>\n",
       "      <td>0</td>\n",
       "      <td>0</td>\n",
       "      <td>2</td>\n",
       "      <td>1</td>\n",
       "    </tr>\n",
       "    <tr>\n",
       "      <th>1</th>\n",
       "      <td>11</td>\n",
       "      <td>1</td>\n",
       "      <td>0</td>\n",
       "      <td>0</td>\n",
       "      <td>0</td>\n",
       "      <td>0</td>\n",
       "      <td>0</td>\n",
       "      <td>0</td>\n",
       "      <td>1</td>\n",
       "      <td>3</td>\n",
       "    </tr>\n",
       "    <tr>\n",
       "      <th>2</th>\n",
       "      <td>6</td>\n",
       "      <td>0</td>\n",
       "      <td>0</td>\n",
       "      <td>0</td>\n",
       "      <td>0</td>\n",
       "      <td>0</td>\n",
       "      <td>0</td>\n",
       "      <td>0</td>\n",
       "      <td>0</td>\n",
       "      <td>3</td>\n",
       "    </tr>\n",
       "    <tr>\n",
       "      <th>3</th>\n",
       "      <td>9</td>\n",
       "      <td>0</td>\n",
       "      <td>0</td>\n",
       "      <td>0</td>\n",
       "      <td>0</td>\n",
       "      <td>0</td>\n",
       "      <td>0</td>\n",
       "      <td>0</td>\n",
       "      <td>0</td>\n",
       "      <td>3</td>\n",
       "    </tr>\n",
       "    <tr>\n",
       "      <th>4</th>\n",
       "      <td>8</td>\n",
       "      <td>0</td>\n",
       "      <td>0</td>\n",
       "      <td>0</td>\n",
       "      <td>0</td>\n",
       "      <td>0</td>\n",
       "      <td>0</td>\n",
       "      <td>0</td>\n",
       "      <td>0</td>\n",
       "      <td>3</td>\n",
       "    </tr>\n",
       "    <tr>\n",
       "      <th>5</th>\n",
       "      <td>12</td>\n",
       "      <td>0</td>\n",
       "      <td>0</td>\n",
       "      <td>0</td>\n",
       "      <td>0</td>\n",
       "      <td>0</td>\n",
       "      <td>0</td>\n",
       "      <td>0</td>\n",
       "      <td>0</td>\n",
       "      <td>0</td>\n",
       "    </tr>\n",
       "    <tr>\n",
       "      <th>6</th>\n",
       "      <td>17</td>\n",
       "      <td>0</td>\n",
       "      <td>0</td>\n",
       "      <td>0</td>\n",
       "      <td>0</td>\n",
       "      <td>0</td>\n",
       "      <td>0</td>\n",
       "      <td>0</td>\n",
       "      <td>0</td>\n",
       "      <td>0</td>\n",
       "    </tr>\n",
       "    <tr>\n",
       "      <th>7</th>\n",
       "      <td>8</td>\n",
       "      <td>2</td>\n",
       "      <td>0</td>\n",
       "      <td>0</td>\n",
       "      <td>0</td>\n",
       "      <td>0</td>\n",
       "      <td>0</td>\n",
       "      <td>0</td>\n",
       "      <td>2</td>\n",
       "      <td>3</td>\n",
       "    </tr>\n",
       "    <tr>\n",
       "      <th>8</th>\n",
       "      <td>21</td>\n",
       "      <td>0</td>\n",
       "      <td>0</td>\n",
       "      <td>0</td>\n",
       "      <td>0</td>\n",
       "      <td>0</td>\n",
       "      <td>0</td>\n",
       "      <td>0</td>\n",
       "      <td>0</td>\n",
       "      <td>2</td>\n",
       "    </tr>\n",
       "    <tr>\n",
       "      <th>9</th>\n",
       "      <td>14</td>\n",
       "      <td>0</td>\n",
       "      <td>0</td>\n",
       "      <td>0</td>\n",
       "      <td>0</td>\n",
       "      <td>0</td>\n",
       "      <td>0</td>\n",
       "      <td>0</td>\n",
       "      <td>0</td>\n",
       "      <td>0</td>\n",
       "    </tr>\n",
       "  </tbody>\n",
       "</table>\n",
       "</div>"
      ],
      "text/plain": [
       "   CRASH HOUR  PERSONS INJURED  PERSONS KILLED  PEDESTRIANS INJURED  \\\n",
       "0           2                2               0                    0   \n",
       "1          11                1               0                    0   \n",
       "2           6                0               0                    0   \n",
       "3           9                0               0                    0   \n",
       "4           8                0               0                    0   \n",
       "5          12                0               0                    0   \n",
       "6          17                0               0                    0   \n",
       "7           8                2               0                    0   \n",
       "8          21                0               0                    0   \n",
       "9          14                0               0                    0   \n",
       "\n",
       "   PEDESTRIANS KILLED  CYCLISTS KILLED  CYCLISTS INJURED  MOTORISTS KILLED  \\\n",
       "0                   0                0                 0                 0   \n",
       "1                   0                0                 0                 0   \n",
       "2                   0                0                 0                 0   \n",
       "3                   0                0                 0                 0   \n",
       "4                   0                0                 0                 0   \n",
       "5                   0                0                 0                 0   \n",
       "6                   0                0                 0                 0   \n",
       "7                   0                0                 0                 0   \n",
       "8                   0                0                 0                 0   \n",
       "9                   0                0                 0                 0   \n",
       "\n",
       "   MOTORISTS INJURED  CLUSTERS  \n",
       "0                  2         1  \n",
       "1                  1         3  \n",
       "2                  0         3  \n",
       "3                  0         3  \n",
       "4                  0         3  \n",
       "5                  0         0  \n",
       "6                  0         0  \n",
       "7                  2         3  \n",
       "8                  0         2  \n",
       "9                  0         0  "
      ]
     },
     "execution_count": 17,
     "metadata": {},
     "output_type": "execute_result"
    }
   ],
   "source": [
    "collisions_sub.head(10)"
   ]
  },
  {
   "cell_type": "code",
   "execution_count": 18,
   "id": "2fcf5ffb",
   "metadata": {},
   "outputs": [
    {
     "data": {
      "text/plain": [
       "0    380572\n",
       "3    260254\n",
       "2    249375\n",
       "1    110936\n",
       "Name: CLUSTERS, dtype: int64"
      ]
     },
     "execution_count": 18,
     "metadata": {},
     "output_type": "execute_result"
    }
   ],
   "source": [
    "collisions_sub['CLUSTERS'].value_counts(dropna = False)"
   ]
  },
  {
   "cell_type": "code",
   "execution_count": 19,
   "id": "fa0c36ac",
   "metadata": {},
   "outputs": [
    {
     "data": {
      "image/png": "[encoded data removed]",
      "text/plain": [
       "<Figure size 1200x800 with 1 Axes>"
      ]
     },
     "metadata": {},
     "output_type": "display_data"
    }
   ],
   "source": [
    "# Plot the clusters for the 'PERSONS INJURED' and 'MOTORISTS INJURED' variables.\n",
    "\n",
    "plt.figure(figsize = (12,8))\n",
    "\n",
    "ax = sns.scatterplot(x = collisions_sub['PERSONS INJURED'], \n",
    "                     y = collisions_sub['MOTORISTS INJURED'], \n",
    "                     hue = kmeans.labels_, s = 100) \n",
    "\n",
    "ax.grid(False) \n",
    "\n",
    "plt.xlabel('Number of persons injured')\n",
    "plt.ylabel('Number of motorists injured') \n",
    "plt.savefig(os.path.join(path, '04. Analysis', 'Visualizations', 'motorists_persons_injured_cluster.png'))\n",
    "plt.show()"
   ]
  },
  {
   "cell_type": "markdown",
   "id": "da52d385",
   "metadata": {},
   "source": [
    "###### Notes:\n",
    "\n",
    "There isn't really any identifiable pattern based on the clusters. The data points in the clusters are scattered all over the plot."
   ]
  },
  {
   "cell_type": "code",
   "execution_count": 20,
   "id": "331b646b",
   "metadata": {},
   "outputs": [
    {
     "data": {
      "image/png": "[encoded data removed]",
      "text/plain": [
       "<Figure size 1200x800 with 1 Axes>"
      ]
     },
     "metadata": {},
     "output_type": "display_data"
    }
   ],
   "source": [
    "# Plot the clusters for the 'PERSONS KILLED' and 'CRASH HOUR' variables.\n",
    "\n",
    "plt.figure(figsize = (12,8))\n",
    "\n",
    "ax = sns.scatterplot(x = collisions_sub['PERSONS KILLED'], \n",
    "                     y = collisions_sub['CRASH HOUR'], \n",
    "                     hue = kmeans.labels_, s = 100) \n",
    "\n",
    "ax.grid(False) \n",
    "\n",
    "plt.xlabel('Number of persons killed')\n",
    "plt.ylabel('Hour of day') \n",
    "plt.savefig(os.path.join(path, '04. Analysis', 'Visualizations', 'persons_killed_hour_cluster.png'))\n",
    "plt.show()"
   ]
  },
  {
   "cell_type": "markdown",
   "id": "67ec87ce",
   "metadata": {},
   "source": [
    "###### Notes:\n",
    "- The pattern of the clusters is clearer here; they are grouped by hour of day.\n",
    "- Most of the data points for the number of persons killed are between 0 and 2."
   ]
  },
  {
   "cell_type": "code",
   "execution_count": 21,
   "id": "3b1301bf",
   "metadata": {},
   "outputs": [],
   "source": [
    "# Subset where 3 or more persons are killed\n",
    "\n",
    "persons3 = collisions.loc[collisions['PERSONS KILLED'] >= 3]"
   ]
  },
  {
   "cell_type": "code",
   "execution_count": 22,
   "id": "8fe8b80d",
   "metadata": {},
   "outputs": [
    {
     "data": {
      "text/plain": [
       "(8, 34)"
      ]
     },
     "execution_count": 22,
     "metadata": {},
     "output_type": "execute_result"
    }
   ],
   "source": [
    "persons3.shape"
   ]
  },
  {
   "cell_type": "code",
   "execution_count": 23,
   "id": "d76c6f90",
   "metadata": {},
   "outputs": [
    {
     "data": {
      "text/html": [
       "<div>\n",
       "<style scoped>\n",
       "    .dataframe tbody tr th:only-of-type {\n",
       "        vertical-align: middle;\n",
       "    }\n",
       "\n",
       "    .dataframe tbody tr th {\n",
       "        vertical-align: top;\n",
       "    }\n",
       "\n",
       "    .dataframe thead th {\n",
       "        text-align: right;\n",
       "    }\n",
       "</style>\n",
       "<table border=\"1\" class=\"dataframe\">\n",
       "  <thead>\n",
       "    <tr style=\"text-align: right;\">\n",
       "      <th></th>\n",
       "      <th>BOROUGH</th>\n",
       "      <th>CRASH DATE</th>\n",
       "      <th>CRASH TIME</th>\n",
       "      <th>PERSONS KILLED</th>\n",
       "      <th>MOTORISTS KILLED</th>\n",
       "      <th>PEDESTRIANS KILLED</th>\n",
       "      <th>CYCLISTS KILLED</th>\n",
       "    </tr>\n",
       "  </thead>\n",
       "  <tbody>\n",
       "    <tr>\n",
       "      <th>23324</th>\n",
       "      <td>NaN</td>\n",
       "      <td>2021-05-22</td>\n",
       "      <td>04:46:00</td>\n",
       "      <td>3</td>\n",
       "      <td>3</td>\n",
       "      <td>0</td>\n",
       "      <td>0</td>\n",
       "    </tr>\n",
       "    <tr>\n",
       "      <th>114129</th>\n",
       "      <td>NaN</td>\n",
       "      <td>2022-02-28</td>\n",
       "      <td>01:44:00</td>\n",
       "      <td>3</td>\n",
       "      <td>3</td>\n",
       "      <td>0</td>\n",
       "      <td>0</td>\n",
       "    </tr>\n",
       "    <tr>\n",
       "      <th>118120</th>\n",
       "      <td>STATEN ISLAND</td>\n",
       "      <td>2022-07-10</td>\n",
       "      <td>20:47:00</td>\n",
       "      <td>3</td>\n",
       "      <td>3</td>\n",
       "      <td>0</td>\n",
       "      <td>0</td>\n",
       "    </tr>\n",
       "    <tr>\n",
       "      <th>219551</th>\n",
       "      <td>QUEENS</td>\n",
       "      <td>2020-10-06</td>\n",
       "      <td>03:52:00</td>\n",
       "      <td>3</td>\n",
       "      <td>3</td>\n",
       "      <td>0</td>\n",
       "      <td>0</td>\n",
       "    </tr>\n",
       "    <tr>\n",
       "      <th>227108</th>\n",
       "      <td>BROOKLYN</td>\n",
       "      <td>2020-07-11</td>\n",
       "      <td>20:18:00</td>\n",
       "      <td>3</td>\n",
       "      <td>3</td>\n",
       "      <td>0</td>\n",
       "      <td>0</td>\n",
       "    </tr>\n",
       "    <tr>\n",
       "      <th>270872</th>\n",
       "      <td>NaN</td>\n",
       "      <td>2020-01-25</td>\n",
       "      <td>05:35:00</td>\n",
       "      <td>4</td>\n",
       "      <td>4</td>\n",
       "      <td>0</td>\n",
       "      <td>0</td>\n",
       "    </tr>\n",
       "    <tr>\n",
       "      <th>781888</th>\n",
       "      <td>MANHATTAN</td>\n",
       "      <td>2017-10-31</td>\n",
       "      <td>15:08:00</td>\n",
       "      <td>8</td>\n",
       "      <td>0</td>\n",
       "      <td>6</td>\n",
       "      <td>2</td>\n",
       "    </tr>\n",
       "    <tr>\n",
       "      <th>818286</th>\n",
       "      <td>QUEENS</td>\n",
       "      <td>2017-09-18</td>\n",
       "      <td>06:17:00</td>\n",
       "      <td>4</td>\n",
       "      <td>2</td>\n",
       "      <td>2</td>\n",
       "      <td>0</td>\n",
       "    </tr>\n",
       "  </tbody>\n",
       "</table>\n",
       "</div>"
      ],
      "text/plain": [
       "              BOROUGH  CRASH DATE CRASH TIME  PERSONS KILLED  \\\n",
       "23324             NaN  2021-05-22   04:46:00               3   \n",
       "114129            NaN  2022-02-28   01:44:00               3   \n",
       "118120  STATEN ISLAND  2022-07-10   20:47:00               3   \n",
       "219551         QUEENS  2020-10-06   03:52:00               3   \n",
       "227108       BROOKLYN  2020-07-11   20:18:00               3   \n",
       "270872            NaN  2020-01-25   05:35:00               4   \n",
       "781888      MANHATTAN  2017-10-31   15:08:00               8   \n",
       "818286         QUEENS  2017-09-18   06:17:00               4   \n",
       "\n",
       "        MOTORISTS KILLED  PEDESTRIANS KILLED  CYCLISTS KILLED  \n",
       "23324                  3                   0                0  \n",
       "114129                 3                   0                0  \n",
       "118120                 3                   0                0  \n",
       "219551                 3                   0                0  \n",
       "227108                 3                   0                0  \n",
       "270872                 4                   0                0  \n",
       "781888                 0                   6                2  \n",
       "818286                 2                   2                0  "
      ]
     },
     "execution_count": 23,
     "metadata": {},
     "output_type": "execute_result"
    }
   ],
   "source": [
    "persons3[['BOROUGH', 'CRASH DATE', 'CRASH TIME',\n",
    "          'PERSONS KILLED', 'MOTORISTS KILLED',\n",
    "          'PEDESTRIANS KILLED', 'CYCLISTS KILLED']]"
   ]
  },
  {
   "cell_type": "markdown",
   "id": "e0894633",
   "metadata": {},
   "source": [
    "###### Notes:\n",
    "- From this table we see that in 7 out of 8 such incidents, the victims are all motorists. \n",
    "\n",
    "- It is also interesting that out of over a million observations in the dataset, there are only 8 cases where there are three or more deaths. "
   ]
  },
  {
   "cell_type": "code",
   "execution_count": 24,
   "id": "05821d2d",
   "metadata": {},
   "outputs": [
    {
     "name": "stderr",
     "output_type": "stream",
     "text": [
      "C:\\Users\\fiyin\\AppData\\Local\\Temp\\ipykernel_6844\\3412407639.py:1: SettingWithCopyWarning: \n",
      "A value is trying to be set on a copy of a slice from a DataFrame.\n",
      "Try using .loc[row_indexer,col_indexer] = value instead\n",
      "\n",
      "See the caveats in the documentation: https://pandas.pydata.org/pandas-docs/stable/user_guide/indexing.html#returning-a-view-versus-a-copy\n",
      "  collisions_sub.loc[collisions_sub['CLUSTERS'] == 3, 'CLUSTER COLOR'] = 'dark purple'\n"
     ]
    }
   ],
   "source": [
    "collisions_sub.loc[collisions_sub['CLUSTERS'] == 3, 'CLUSTER COLOR'] = 'dark purple'\n",
    "collisions_sub.loc[collisions_sub['CLUSTERS'] == 0, 'CLUSTER COLOR'] = 'pink'\n",
    "collisions_sub.loc[collisions_sub['CLUSTERS'] == 1, 'CLUSTER COLOR'] = 'light purple'\n",
    "collisions_sub.loc[collisions_sub['CLUSTERS'] == 2, 'CLUSTER COLOR'] = 'purple'"
   ]
  },
  {
   "cell_type": "code",
   "execution_count": 25,
   "id": "76c16edd",
   "metadata": {},
   "outputs": [
    {
     "data": {
      "text/plain": [
       "Index(['CRASH HOUR', 'PERSONS INJURED', 'PERSONS KILLED',\n",
       "       'PEDESTRIANS INJURED', 'PEDESTRIANS KILLED', 'CYCLISTS KILLED',\n",
       "       'CYCLISTS INJURED', 'MOTORISTS KILLED', 'MOTORISTS INJURED', 'CLUSTERS',\n",
       "       'CLUSTER COLOR'],\n",
       "      dtype='object')"
      ]
     },
     "execution_count": 25,
     "metadata": {},
     "output_type": "execute_result"
    }
   ],
   "source": [
    "collisions_sub.columns"
   ]
  },
  {
   "cell_type": "code",
   "execution_count": 26,
   "id": "98fdc484",
   "metadata": {},
   "outputs": [
    {
     "data": {
      "text/html": [
       "<div>\n",
       "<style scoped>\n",
       "    .dataframe tbody tr th:only-of-type {\n",
       "        vertical-align: middle;\n",
       "    }\n",
       "\n",
       "    .dataframe tbody tr th {\n",
       "        vertical-align: top;\n",
       "    }\n",
       "\n",
       "    .dataframe thead tr th {\n",
       "        text-align: left;\n",
       "    }\n",
       "\n",
       "    .dataframe thead tr:last-of-type th {\n",
       "        text-align: right;\n",
       "    }\n",
       "</style>\n",
       "<table border=\"1\" class=\"dataframe\">\n",
       "  <thead>\n",
       "    <tr>\n",
       "      <th></th>\n",
       "      <th colspan=\"2\" halign=\"left\">CRASH HOUR</th>\n",
       "      <th colspan=\"2\" halign=\"left\">PERSONS INJURED</th>\n",
       "      <th colspan=\"2\" halign=\"left\">PERSONS KILLED</th>\n",
       "      <th colspan=\"2\" halign=\"left\">PEDESTRIANS INJURED</th>\n",
       "      <th colspan=\"2\" halign=\"left\">PEDESTRIANS KILLED</th>\n",
       "      <th colspan=\"2\" halign=\"left\">CYCLISTS INJURED</th>\n",
       "      <th colspan=\"2\" halign=\"left\">CYCLISTS KILLED</th>\n",
       "      <th colspan=\"2\" halign=\"left\">MOTORISTS INJURED</th>\n",
       "      <th colspan=\"2\" halign=\"left\">MOTORISTS KILLED</th>\n",
       "    </tr>\n",
       "    <tr>\n",
       "      <th></th>\n",
       "      <th>mean</th>\n",
       "      <th>median</th>\n",
       "      <th>mean</th>\n",
       "      <th>median</th>\n",
       "      <th>mean</th>\n",
       "      <th>median</th>\n",
       "      <th>mean</th>\n",
       "      <th>median</th>\n",
       "      <th>mean</th>\n",
       "      <th>median</th>\n",
       "      <th>mean</th>\n",
       "      <th>median</th>\n",
       "      <th>mean</th>\n",
       "      <th>median</th>\n",
       "      <th>mean</th>\n",
       "      <th>median</th>\n",
       "      <th>mean</th>\n",
       "      <th>median</th>\n",
       "    </tr>\n",
       "    <tr>\n",
       "      <th>CLUSTER COLOR</th>\n",
       "      <th></th>\n",
       "      <th></th>\n",
       "      <th></th>\n",
       "      <th></th>\n",
       "      <th></th>\n",
       "      <th></th>\n",
       "      <th></th>\n",
       "      <th></th>\n",
       "      <th></th>\n",
       "      <th></th>\n",
       "      <th></th>\n",
       "      <th></th>\n",
       "      <th></th>\n",
       "      <th></th>\n",
       "      <th></th>\n",
       "      <th></th>\n",
       "      <th></th>\n",
       "      <th></th>\n",
       "    </tr>\n",
       "  </thead>\n",
       "  <tbody>\n",
       "    <tr>\n",
       "      <th>dark purple</th>\n",
       "      <td>8.843718</td>\n",
       "      <td>9.0</td>\n",
       "      <td>0.278224</td>\n",
       "      <td>0.0</td>\n",
       "      <td>0.001149</td>\n",
       "      <td>0.0</td>\n",
       "      <td>0.050455</td>\n",
       "      <td>0.0</td>\n",
       "      <td>0.000596</td>\n",
       "      <td>0.0</td>\n",
       "      <td>0.021448</td>\n",
       "      <td>0.0</td>\n",
       "      <td>0.000131</td>\n",
       "      <td>0.0</td>\n",
       "      <td>0.202998</td>\n",
       "      <td>0.0</td>\n",
       "      <td>0.000380</td>\n",
       "      <td>0.0</td>\n",
       "    </tr>\n",
       "    <tr>\n",
       "      <th>light purple</th>\n",
       "      <td>1.912310</td>\n",
       "      <td>1.0</td>\n",
       "      <td>0.382347</td>\n",
       "      <td>0.0</td>\n",
       "      <td>0.003876</td>\n",
       "      <td>0.0</td>\n",
       "      <td>0.040158</td>\n",
       "      <td>0.0</td>\n",
       "      <td>0.001433</td>\n",
       "      <td>0.0</td>\n",
       "      <td>0.020832</td>\n",
       "      <td>0.0</td>\n",
       "      <td>0.000189</td>\n",
       "      <td>0.0</td>\n",
       "      <td>0.317174</td>\n",
       "      <td>0.0</td>\n",
       "      <td>0.002172</td>\n",
       "      <td>0.0</td>\n",
       "    </tr>\n",
       "    <tr>\n",
       "      <th>pink</th>\n",
       "      <td>14.650211</td>\n",
       "      <td>15.0</td>\n",
       "      <td>0.311602</td>\n",
       "      <td>0.0</td>\n",
       "      <td>0.000988</td>\n",
       "      <td>0.0</td>\n",
       "      <td>0.054965</td>\n",
       "      <td>0.0</td>\n",
       "      <td>0.000499</td>\n",
       "      <td>0.0</td>\n",
       "      <td>0.031311</td>\n",
       "      <td>0.0</td>\n",
       "      <td>0.000108</td>\n",
       "      <td>0.0</td>\n",
       "      <td>0.220768</td>\n",
       "      <td>0.0</td>\n",
       "      <td>0.000360</td>\n",
       "      <td>0.0</td>\n",
       "    </tr>\n",
       "    <tr>\n",
       "      <th>purple</th>\n",
       "      <td>20.065780</td>\n",
       "      <td>20.0</td>\n",
       "      <td>0.396812</td>\n",
       "      <td>0.0</td>\n",
       "      <td>0.001909</td>\n",
       "      <td>0.0</td>\n",
       "      <td>0.070095</td>\n",
       "      <td>0.0</td>\n",
       "      <td>0.000954</td>\n",
       "      <td>0.0</td>\n",
       "      <td>0.041492</td>\n",
       "      <td>0.0</td>\n",
       "      <td>0.000148</td>\n",
       "      <td>0.0</td>\n",
       "      <td>0.278713</td>\n",
       "      <td>0.0</td>\n",
       "      <td>0.000786</td>\n",
       "      <td>0.0</td>\n",
       "    </tr>\n",
       "  </tbody>\n",
       "</table>\n",
       "</div>"
      ],
      "text/plain": [
       "              CRASH HOUR        PERSONS INJURED        PERSONS KILLED         \\\n",
       "                    mean median            mean median           mean median   \n",
       "CLUSTER COLOR                                                                  \n",
       "dark purple     8.843718    9.0        0.278224    0.0       0.001149    0.0   \n",
       "light purple    1.912310    1.0        0.382347    0.0       0.003876    0.0   \n",
       "pink           14.650211   15.0        0.311602    0.0       0.000988    0.0   \n",
       "purple         20.065780   20.0        0.396812    0.0       0.001909    0.0   \n",
       "\n",
       "              PEDESTRIANS INJURED        PEDESTRIANS KILLED         \\\n",
       "                             mean median               mean median   \n",
       "CLUSTER COLOR                                                        \n",
       "dark purple              0.050455    0.0           0.000596    0.0   \n",
       "light purple             0.040158    0.0           0.001433    0.0   \n",
       "pink                     0.054965    0.0           0.000499    0.0   \n",
       "purple                   0.070095    0.0           0.000954    0.0   \n",
       "\n",
       "              CYCLISTS INJURED        CYCLISTS KILLED         \\\n",
       "                          mean median            mean median   \n",
       "CLUSTER COLOR                                                  \n",
       "dark purple           0.021448    0.0        0.000131    0.0   \n",
       "light purple          0.020832    0.0        0.000189    0.0   \n",
       "pink                  0.031311    0.0        0.000108    0.0   \n",
       "purple                0.041492    0.0        0.000148    0.0   \n",
       "\n",
       "              MOTORISTS INJURED        MOTORISTS KILLED         \n",
       "                           mean median             mean median  \n",
       "CLUSTER COLOR                                                   \n",
       "dark purple            0.202998    0.0         0.000380    0.0  \n",
       "light purple           0.317174    0.0         0.002172    0.0  \n",
       "pink                   0.220768    0.0         0.000360    0.0  \n",
       "purple                 0.278713    0.0         0.000786    0.0  "
      ]
     },
     "execution_count": 26,
     "metadata": {},
     "output_type": "execute_result"
    }
   ],
   "source": [
    "collisions_sub.groupby('CLUSTER COLOR').agg({'CRASH HOUR':['mean', 'median'], \n",
    "                                       'PERSONS INJURED':['mean', 'median'], \n",
    "                                       'PERSONS KILLED':['mean', 'median'],\n",
    "                                       'PEDESTRIANS INJURED':['mean', 'median'],\n",
    "                                       'PEDESTRIANS KILLED':['mean', 'median'],\n",
    "                                       'CYCLISTS INJURED':['mean', 'median'],\n",
    "                                       'CYCLISTS KILLED':['mean', 'median'],\n",
    "                                       'MOTORISTS INJURED':['mean', 'median'],\n",
    "                                       'MOTORISTS KILLED':['mean', 'median']})"
   ]
  },
  {
   "cell_type": "markdown",
   "id": "e4ae415f",
   "metadata": {},
   "source": [
    "###### Notes:\n",
    "\n",
    "- Since the number of casualties in most vehicle collisions is generally very low, these statistics do not give much information. \n",
    "- Looking at the median of the 'CRASH HOUR' variable, each cluster represents the period of day when collisions occur:\n",
    "    - 'dark purple' cluster (median 9am): Morning hours\n",
    "    - 'light purple' cluster (median 1am): Midnight hours\n",
    "    - 'pink' cluster (median 3pm):  Afternoon hours\n",
    "    - 'purple' cluster (median 8pm): Evening hours\n",
    "- The 'PERSONS INJURED' and 'MOTORISTS INJURED' variables have the better statistics overall (generally due to more non-zero values than other variables).\n",
    "- Since there isn't a great deal of information from the numerical variables, future analysis could focus on the categorical variables to establish more relationships in the dataset, particularly in determining the causes of accidents."
   ]
  }
 ],
 "metadata": {
  "kernelspec": {
   "display_name": "Python 3 (ipykernel)",
   "language": "python",
   "name": "python3"
  },
  "language_info": {
   "codemirror_mode": {
    "name": "ipython",
    "version": 3
   },
   "file_extension": ".py",
   "mimetype": "text/x-python",
   "name": "python",
   "nbconvert_exporter": "python",
   "pygments_lexer": "ipython3",
   "version": "3.9.13"
  }
 },
 "nbformat": 4,
 "nbformat_minor": 5
}
